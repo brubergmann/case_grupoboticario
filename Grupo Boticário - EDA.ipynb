{
 "cells": [
  {
   "cell_type": "markdown",
   "id": "b60184db",
   "metadata": {},
   "source": [
    "# Case DS - Grupo Boticário"
   ]
  },
  {
   "cell_type": "markdown",
   "id": "67e35b39",
   "metadata": {},
   "source": [
    "## 1. Importação dos pacotes e funções"
   ]
  },
  {
   "cell_type": "markdown",
   "id": "5849b587",
   "metadata": {},
   "source": [
    "### 1.1 Bibliotecas utilizadas"
   ]
  },
  {
   "cell_type": "code",
   "execution_count": 1,
   "id": "23cec492",
   "metadata": {},
   "outputs": [],
   "source": [
    "import numpy as np\n",
    "import pandas as pd\n",
    "import matplotlib.pyplot as plt\n",
    "import seaborn as sns\n",
    "import sqlite3\n",
    "from sklearn import tree\n",
    "from sklearn.ensemble import RandomForestClassifier, VotingClassifier\n",
    "from sklearn.metrics import accuracy_score\n",
    "from sklearn.utils import resample\n",
    "from IPython.display import display\n",
    "from pandas.plotting import autocorrelation_plot\n",
    "import warnings\n",
    "import datetime"
   ]
  },
  {
   "cell_type": "markdown",
   "id": "dd3a63e2",
   "metadata": {},
   "source": [
    "### 1.2 Configurações"
   ]
  },
  {
   "cell_type": "code",
   "execution_count": 2,
   "id": "a8a4e472",
   "metadata": {},
   "outputs": [],
   "source": [
    "pd.options.display.max_columns = None\n",
    "pd.options.display.max_rows = None\n",
    "sns.set_palette(\"gist_ncar\")\n",
    "sns.set_style(\"whitegrid\")"
   ]
  },
  {
   "cell_type": "code",
   "execution_count": 3,
   "id": "793e6a41",
   "metadata": {},
   "outputs": [],
   "source": [
    "def plot_ratio_horizontal(plot, feature):\n",
    "    total = len(feature)\n",
    "    for p in ax.patches:\n",
    "        percentage = '{:.1f}%'.format(100 * p.get_width()/total)\n",
    "        y = p.get_y() + p.get_height() / 2 + 0.12\n",
    "        x = p.get_x() + p.get_width()\n",
    "        ax.annotate(percentage, (x, y), size=13)\n",
    "    plt.show()"
   ]
  },
  {
   "cell_type": "code",
   "execution_count": 4,
   "id": "df39fb3a",
   "metadata": {},
   "outputs": [],
   "source": [
    "# esta função adiciona o valor relativo da categoria num gráfico de barras vertical\n",
    "def plot_ratio(plot, feature):\n",
    "    total = len(feature)\n",
    "    for p in ax.patches:\n",
    "        percentage = '{:.1f}%'.format(100 * p.get_height()/total)\n",
    "        x = p.get_x() + p.get_width() / 2 - 0.10\n",
    "        y = p.get_y() + p.get_height()\n",
    "        ax.annotate(percentage, (x, y), size=13)\n",
    "    plt.show()"
   ]
  },
  {
   "cell_type": "code",
   "execution_count": 5,
   "id": "767a99f3",
   "metadata": {},
   "outputs": [],
   "source": [
    "def correlated_columns(df, threshold):\n",
    "    return (\n",
    "        df.corr()\n",
    "        .pipe(\n",
    "            lambda df1: pd.DataFrame(\n",
    "                np.tril(df1, k=-1),\n",
    "                columns=df.columns,\n",
    "                index=df.columns,\n",
    "            )\n",
    "        )\n",
    "        .stack()\n",
    "        .rename(\"kendall\")\n",
    "        .pipe(\n",
    "            lambda s: s[\n",
    "                s.abs() > threshold\n",
    "            ].reset_index()\n",
    "        )\n",
    "        .query(\"level_0 not in level_1\")\n",
    "    )"
   ]
  },
  {
   "cell_type": "code",
   "execution_count": 6,
   "id": "c21f79c9",
   "metadata": {},
   "outputs": [],
   "source": [
    "def fill_categoric_field_with_value(serie):\n",
    "    names = serie.unique()\n",
    "    values = list(range(1, names.size + 1))\n",
    "    \n",
    "    #a tabela de valores continha um float(nan) mapeado para um valor inteiro. Solução foi mudar na tabela de valores colocando o None\n",
    "    nan_index = np.where(pd.isna(names))\n",
    "    if len(nan_index) > 0 and len(nan_index[0]) > 0:\n",
    "        nan_index = nan_index[0][0]\n",
    "        values[nan_index] = None\n",
    "    #else:\n",
    "        #print(\"Não encontrou nan em \" + str(names))\n",
    "        \n",
    "    return serie.replace(names,values)"
   ]
  },
  {
   "cell_type": "markdown",
   "id": "d83ec688",
   "metadata": {},
   "source": [
    "# 2. Obtenção dos dados "
   ]
  },
  {
   "cell_type": "markdown",
   "id": "06c5ff0a",
   "metadata": {},
   "source": [
    "## 2.1 Importação dos dados"
   ]
  },
  {
   "cell_type": "code",
   "execution_count": 7,
   "id": "08be646f",
   "metadata": {},
   "outputs": [],
   "source": [
    "# Read sqlite query results into a pandas DataFrame\n",
    "con = sqlite3.connect(\"C:/temp/case_ds/case_ds_gdem.sqlite3\")\n",
    "df = pd.read_sql_query(\"SELECT * from vendas\", con)"
   ]
  },
  {
   "cell_type": "code",
   "execution_count": 8,
   "id": "5d8eae55",
   "metadata": {},
   "outputs": [
    {
     "data": {
      "text/html": [
       "<div>\n",
       "<style scoped>\n",
       "    .dataframe tbody tr th:only-of-type {\n",
       "        vertical-align: middle;\n",
       "    }\n",
       "\n",
       "    .dataframe tbody tr th {\n",
       "        vertical-align: top;\n",
       "    }\n",
       "\n",
       "    .dataframe thead th {\n",
       "        text-align: right;\n",
       "    }\n",
       "</style>\n",
       "<table border=\"1\" class=\"dataframe\">\n",
       "  <thead>\n",
       "    <tr style=\"text-align: right;\">\n",
       "      <th></th>\n",
       "      <th>COD_MATERIAL</th>\n",
       "      <th>COD_CICLO</th>\n",
       "      <th>DES_CATEGORIA_MATERIAL</th>\n",
       "      <th>DES_MARCA_MATERIAL</th>\n",
       "      <th>FLG_DATA</th>\n",
       "      <th>FLG_CAMPANHA_MKT_A</th>\n",
       "      <th>FLG_CAMPANHA_MKT_B</th>\n",
       "      <th>FLG_CAMPANHA_MKT_C</th>\n",
       "      <th>FLG_CAMPANHA_MKT_D</th>\n",
       "      <th>FLG_CAMPANHA_MKT_E</th>\n",
       "      <th>FLG_CAMPANHA_MKT_F</th>\n",
       "      <th>PCT_DESCONTO</th>\n",
       "      <th>VL_PRECO</th>\n",
       "      <th>QT_VENDA</th>\n",
       "    </tr>\n",
       "  </thead>\n",
       "  <tbody>\n",
       "    <tr>\n",
       "      <th>0</th>\n",
       "      <td>6246</td>\n",
       "      <td>201908</td>\n",
       "      <td>anon_S12</td>\n",
       "      <td>anon_S53</td>\n",
       "      <td>1</td>\n",
       "      <td>0.0</td>\n",
       "      <td>0.0</td>\n",
       "      <td>0.0</td>\n",
       "      <td>0.0</td>\n",
       "      <td>0.0</td>\n",
       "      <td>0.0</td>\n",
       "      <td>NaN</td>\n",
       "      <td>461.4</td>\n",
       "      <td>240.0</td>\n",
       "    </tr>\n",
       "    <tr>\n",
       "      <th>1</th>\n",
       "      <td>6246</td>\n",
       "      <td>201915</td>\n",
       "      <td>anon_S12</td>\n",
       "      <td>anon_S53</td>\n",
       "      <td>0</td>\n",
       "      <td>0.0</td>\n",
       "      <td>0.0</td>\n",
       "      <td>0.0</td>\n",
       "      <td>0.0</td>\n",
       "      <td>0.0</td>\n",
       "      <td>0.0</td>\n",
       "      <td>NaN</td>\n",
       "      <td>461.4</td>\n",
       "      <td>240.0</td>\n",
       "    </tr>\n",
       "    <tr>\n",
       "      <th>2</th>\n",
       "      <td>6306</td>\n",
       "      <td>201916</td>\n",
       "      <td>anon_S12</td>\n",
       "      <td>anon_S53</td>\n",
       "      <td>1</td>\n",
       "      <td>0.0</td>\n",
       "      <td>0.0</td>\n",
       "      <td>0.0</td>\n",
       "      <td>0.0</td>\n",
       "      <td>0.0</td>\n",
       "      <td>0.0</td>\n",
       "      <td>NaN</td>\n",
       "      <td>521.4</td>\n",
       "      <td>240.0</td>\n",
       "    </tr>\n",
       "    <tr>\n",
       "      <th>3</th>\n",
       "      <td>6480</td>\n",
       "      <td>201801</td>\n",
       "      <td>anon_S12</td>\n",
       "      <td>anon_S17</td>\n",
       "      <td>0</td>\n",
       "      <td>0.0</td>\n",
       "      <td>0.0</td>\n",
       "      <td>0.0</td>\n",
       "      <td>0.0</td>\n",
       "      <td>0.0</td>\n",
       "      <td>0.0</td>\n",
       "      <td>NaN</td>\n",
       "      <td>833.4</td>\n",
       "      <td>528.0</td>\n",
       "    </tr>\n",
       "    <tr>\n",
       "      <th>4</th>\n",
       "      <td>6480</td>\n",
       "      <td>201802</td>\n",
       "      <td>anon_S12</td>\n",
       "      <td>anon_S17</td>\n",
       "      <td>0</td>\n",
       "      <td>0.0</td>\n",
       "      <td>0.0</td>\n",
       "      <td>0.0</td>\n",
       "      <td>0.0</td>\n",
       "      <td>0.0</td>\n",
       "      <td>0.0</td>\n",
       "      <td>NaN</td>\n",
       "      <td>833.4</td>\n",
       "      <td>564.0</td>\n",
       "    </tr>\n",
       "  </tbody>\n",
       "</table>\n",
       "</div>"
      ],
      "text/plain": [
       "   COD_MATERIAL  COD_CICLO DES_CATEGORIA_MATERIAL DES_MARCA_MATERIAL  \\\n",
       "0          6246     201908               anon_S12           anon_S53   \n",
       "1          6246     201915               anon_S12           anon_S53   \n",
       "2          6306     201916               anon_S12           anon_S53   \n",
       "3          6480     201801               anon_S12           anon_S17   \n",
       "4          6480     201802               anon_S12           anon_S17   \n",
       "\n",
       "   FLG_DATA  FLG_CAMPANHA_MKT_A  FLG_CAMPANHA_MKT_B  FLG_CAMPANHA_MKT_C  \\\n",
       "0         1                 0.0                 0.0                 0.0   \n",
       "1         0                 0.0                 0.0                 0.0   \n",
       "2         1                 0.0                 0.0                 0.0   \n",
       "3         0                 0.0                 0.0                 0.0   \n",
       "4         0                 0.0                 0.0                 0.0   \n",
       "\n",
       "   FLG_CAMPANHA_MKT_D  FLG_CAMPANHA_MKT_E  FLG_CAMPANHA_MKT_F  PCT_DESCONTO  \\\n",
       "0                 0.0                 0.0                 0.0           NaN   \n",
       "1                 0.0                 0.0                 0.0           NaN   \n",
       "2                 0.0                 0.0                 0.0           NaN   \n",
       "3                 0.0                 0.0                 0.0           NaN   \n",
       "4                 0.0                 0.0                 0.0           NaN   \n",
       "\n",
       "   VL_PRECO  QT_VENDA  \n",
       "0     461.4     240.0  \n",
       "1     461.4     240.0  \n",
       "2     521.4     240.0  \n",
       "3     833.4     528.0  \n",
       "4     833.4     564.0  "
      ]
     },
     "execution_count": 8,
     "metadata": {},
     "output_type": "execute_result"
    }
   ],
   "source": [
    "df.head() # exibindo as primeiras linhas"
   ]
  },
  {
   "cell_type": "code",
   "execution_count": 9,
   "id": "62bf210e",
   "metadata": {},
   "outputs": [
    {
     "data": {
      "text/html": [
       "<div>\n",
       "<style scoped>\n",
       "    .dataframe tbody tr th:only-of-type {\n",
       "        vertical-align: middle;\n",
       "    }\n",
       "\n",
       "    .dataframe tbody tr th {\n",
       "        vertical-align: top;\n",
       "    }\n",
       "\n",
       "    .dataframe thead th {\n",
       "        text-align: right;\n",
       "    }\n",
       "</style>\n",
       "<table border=\"1\" class=\"dataframe\">\n",
       "  <thead>\n",
       "    <tr style=\"text-align: right;\">\n",
       "      <th></th>\n",
       "      <th>COD_MATERIAL</th>\n",
       "      <th>COD_CICLO</th>\n",
       "      <th>DES_CATEGORIA_MATERIAL</th>\n",
       "      <th>DES_MARCA_MATERIAL</th>\n",
       "      <th>FLG_DATA</th>\n",
       "      <th>FLG_CAMPANHA_MKT_A</th>\n",
       "      <th>FLG_CAMPANHA_MKT_B</th>\n",
       "      <th>FLG_CAMPANHA_MKT_C</th>\n",
       "      <th>FLG_CAMPANHA_MKT_D</th>\n",
       "      <th>FLG_CAMPANHA_MKT_E</th>\n",
       "      <th>FLG_CAMPANHA_MKT_F</th>\n",
       "      <th>PCT_DESCONTO</th>\n",
       "      <th>VL_PRECO</th>\n",
       "      <th>QT_VENDA</th>\n",
       "    </tr>\n",
       "  </thead>\n",
       "  <tbody>\n",
       "    <tr>\n",
       "      <th>52089</th>\n",
       "      <td>501084</td>\n",
       "      <td>202017</td>\n",
       "      <td>anon_S2</td>\n",
       "      <td>anon_S24</td>\n",
       "      <td>1</td>\n",
       "      <td>0.0</td>\n",
       "      <td>0.0</td>\n",
       "      <td>0.0</td>\n",
       "      <td>0.0</td>\n",
       "      <td>0.0</td>\n",
       "      <td>0.0</td>\n",
       "      <td>NaN</td>\n",
       "      <td>443.400</td>\n",
       "      <td>NaN</td>\n",
       "    </tr>\n",
       "    <tr>\n",
       "      <th>52090</th>\n",
       "      <td>501084</td>\n",
       "      <td>202101</td>\n",
       "      <td>anon_S2</td>\n",
       "      <td>anon_S24</td>\n",
       "      <td>0</td>\n",
       "      <td>0.0</td>\n",
       "      <td>0.5</td>\n",
       "      <td>0.0</td>\n",
       "      <td>0.0</td>\n",
       "      <td>0.0</td>\n",
       "      <td>0.0</td>\n",
       "      <td>20.0</td>\n",
       "      <td>443.400</td>\n",
       "      <td>NaN</td>\n",
       "    </tr>\n",
       "    <tr>\n",
       "      <th>52091</th>\n",
       "      <td>502386</td>\n",
       "      <td>202016</td>\n",
       "      <td>anon_S12</td>\n",
       "      <td>anon_S25</td>\n",
       "      <td>1</td>\n",
       "      <td>1.0</td>\n",
       "      <td>1.0</td>\n",
       "      <td>0.0</td>\n",
       "      <td>0.0</td>\n",
       "      <td>0.0</td>\n",
       "      <td>0.0</td>\n",
       "      <td>25.0</td>\n",
       "      <td>647.430</td>\n",
       "      <td>NaN</td>\n",
       "    </tr>\n",
       "    <tr>\n",
       "      <th>52092</th>\n",
       "      <td>502386</td>\n",
       "      <td>202017</td>\n",
       "      <td>anon_S12</td>\n",
       "      <td>anon_S25</td>\n",
       "      <td>1</td>\n",
       "      <td>0.0</td>\n",
       "      <td>1.0</td>\n",
       "      <td>0.0</td>\n",
       "      <td>0.0</td>\n",
       "      <td>0.0</td>\n",
       "      <td>0.0</td>\n",
       "      <td>20.0</td>\n",
       "      <td>727.215</td>\n",
       "      <td>NaN</td>\n",
       "    </tr>\n",
       "    <tr>\n",
       "      <th>52093</th>\n",
       "      <td>502386</td>\n",
       "      <td>202101</td>\n",
       "      <td>anon_S12</td>\n",
       "      <td>anon_S25</td>\n",
       "      <td>0</td>\n",
       "      <td>0.0</td>\n",
       "      <td>0.5</td>\n",
       "      <td>0.0</td>\n",
       "      <td>0.0</td>\n",
       "      <td>0.0</td>\n",
       "      <td>0.0</td>\n",
       "      <td>20.0</td>\n",
       "      <td>783.450</td>\n",
       "      <td>NaN</td>\n",
       "    </tr>\n",
       "  </tbody>\n",
       "</table>\n",
       "</div>"
      ],
      "text/plain": [
       "       COD_MATERIAL  COD_CICLO DES_CATEGORIA_MATERIAL DES_MARCA_MATERIAL  \\\n",
       "52089        501084     202017                anon_S2           anon_S24   \n",
       "52090        501084     202101                anon_S2           anon_S24   \n",
       "52091        502386     202016               anon_S12           anon_S25   \n",
       "52092        502386     202017               anon_S12           anon_S25   \n",
       "52093        502386     202101               anon_S12           anon_S25   \n",
       "\n",
       "       FLG_DATA  FLG_CAMPANHA_MKT_A  FLG_CAMPANHA_MKT_B  FLG_CAMPANHA_MKT_C  \\\n",
       "52089         1                 0.0                 0.0                 0.0   \n",
       "52090         0                 0.0                 0.5                 0.0   \n",
       "52091         1                 1.0                 1.0                 0.0   \n",
       "52092         1                 0.0                 1.0                 0.0   \n",
       "52093         0                 0.0                 0.5                 0.0   \n",
       "\n",
       "       FLG_CAMPANHA_MKT_D  FLG_CAMPANHA_MKT_E  FLG_CAMPANHA_MKT_F  \\\n",
       "52089                 0.0                 0.0                 0.0   \n",
       "52090                 0.0                 0.0                 0.0   \n",
       "52091                 0.0                 0.0                 0.0   \n",
       "52092                 0.0                 0.0                 0.0   \n",
       "52093                 0.0                 0.0                 0.0   \n",
       "\n",
       "       PCT_DESCONTO  VL_PRECO  QT_VENDA  \n",
       "52089           NaN   443.400       NaN  \n",
       "52090          20.0   443.400       NaN  \n",
       "52091          25.0   647.430       NaN  \n",
       "52092          20.0   727.215       NaN  \n",
       "52093          20.0   783.450       NaN  "
      ]
     },
     "execution_count": 9,
     "metadata": {},
     "output_type": "execute_result"
    }
   ],
   "source": [
    "df.tail() # exibindo as últimas linhas"
   ]
  },
  {
   "cell_type": "code",
   "execution_count": 10,
   "id": "8d4c4e28",
   "metadata": {},
   "outputs": [
    {
     "name": "stdout",
     "output_type": "stream",
     "text": [
      "A base possui 52094 linhas e 14 variáveis (atributos)\n"
     ]
    }
   ],
   "source": [
    "print('A base possui', df.shape[0], 'linhas e', df.shape[1], 'variáveis (atributos)')"
   ]
  },
  {
   "cell_type": "markdown",
   "id": "7c5e9dc5",
   "metadata": {},
   "source": [
    "# 3. Análise da qualidade dos dados"
   ]
  },
  {
   "cell_type": "code",
   "execution_count": 11,
   "id": "c38c4d2a",
   "metadata": {},
   "outputs": [
    {
     "data": {
      "text/html": [
       "<div>\n",
       "<style scoped>\n",
       "    .dataframe tbody tr th:only-of-type {\n",
       "        vertical-align: middle;\n",
       "    }\n",
       "\n",
       "    .dataframe tbody tr th {\n",
       "        vertical-align: top;\n",
       "    }\n",
       "\n",
       "    .dataframe thead th {\n",
       "        text-align: right;\n",
       "    }\n",
       "</style>\n",
       "<table border=\"1\" class=\"dataframe\">\n",
       "  <thead>\n",
       "    <tr style=\"text-align: right;\">\n",
       "      <th></th>\n",
       "      <th>count</th>\n",
       "      <th>mean</th>\n",
       "      <th>std</th>\n",
       "      <th>min</th>\n",
       "      <th>25%</th>\n",
       "      <th>50%</th>\n",
       "      <th>75%</th>\n",
       "      <th>max</th>\n",
       "    </tr>\n",
       "  </thead>\n",
       "  <tbody>\n",
       "    <tr>\n",
       "      <th>COD_MATERIAL</th>\n",
       "      <td>52094.00</td>\n",
       "      <td>270394.54</td>\n",
       "      <td>154650.26</td>\n",
       "      <td>6246.00</td>\n",
       "      <td>141372.00</td>\n",
       "      <td>174702.00</td>\n",
       "      <td>433710.00</td>\n",
       "      <td>502386.00</td>\n",
       "    </tr>\n",
       "    <tr>\n",
       "      <th>COD_CICLO</th>\n",
       "      <td>52094.00</td>\n",
       "      <td>201912.80</td>\n",
       "      <td>85.83</td>\n",
       "      <td>201801.00</td>\n",
       "      <td>201814.00</td>\n",
       "      <td>201910.00</td>\n",
       "      <td>202006.00</td>\n",
       "      <td>202101.00</td>\n",
       "    </tr>\n",
       "    <tr>\n",
       "      <th>FLG_DATA</th>\n",
       "      <td>52094.00</td>\n",
       "      <td>0.29</td>\n",
       "      <td>0.45</td>\n",
       "      <td>0.00</td>\n",
       "      <td>0.00</td>\n",
       "      <td>0.00</td>\n",
       "      <td>1.00</td>\n",
       "      <td>1.00</td>\n",
       "    </tr>\n",
       "    <tr>\n",
       "      <th>FLG_CAMPANHA_MKT_A</th>\n",
       "      <td>52094.00</td>\n",
       "      <td>0.02</td>\n",
       "      <td>0.12</td>\n",
       "      <td>0.00</td>\n",
       "      <td>0.00</td>\n",
       "      <td>0.00</td>\n",
       "      <td>0.00</td>\n",
       "      <td>1.00</td>\n",
       "    </tr>\n",
       "    <tr>\n",
       "      <th>FLG_CAMPANHA_MKT_B</th>\n",
       "      <td>52094.00</td>\n",
       "      <td>0.24</td>\n",
       "      <td>0.40</td>\n",
       "      <td>0.00</td>\n",
       "      <td>0.00</td>\n",
       "      <td>0.00</td>\n",
       "      <td>0.50</td>\n",
       "      <td>1.00</td>\n",
       "    </tr>\n",
       "    <tr>\n",
       "      <th>FLG_CAMPANHA_MKT_C</th>\n",
       "      <td>52094.00</td>\n",
       "      <td>0.04</td>\n",
       "      <td>0.19</td>\n",
       "      <td>0.00</td>\n",
       "      <td>0.00</td>\n",
       "      <td>0.00</td>\n",
       "      <td>0.00</td>\n",
       "      <td>1.00</td>\n",
       "    </tr>\n",
       "    <tr>\n",
       "      <th>FLG_CAMPANHA_MKT_D</th>\n",
       "      <td>52094.00</td>\n",
       "      <td>0.06</td>\n",
       "      <td>0.17</td>\n",
       "      <td>0.00</td>\n",
       "      <td>0.00</td>\n",
       "      <td>0.00</td>\n",
       "      <td>0.00</td>\n",
       "      <td>1.00</td>\n",
       "    </tr>\n",
       "    <tr>\n",
       "      <th>FLG_CAMPANHA_MKT_E</th>\n",
       "      <td>52094.00</td>\n",
       "      <td>0.00</td>\n",
       "      <td>0.00</td>\n",
       "      <td>0.00</td>\n",
       "      <td>0.00</td>\n",
       "      <td>0.00</td>\n",
       "      <td>0.00</td>\n",
       "      <td>0.00</td>\n",
       "    </tr>\n",
       "    <tr>\n",
       "      <th>FLG_CAMPANHA_MKT_F</th>\n",
       "      <td>52094.00</td>\n",
       "      <td>0.00</td>\n",
       "      <td>0.00</td>\n",
       "      <td>0.00</td>\n",
       "      <td>0.00</td>\n",
       "      <td>0.00</td>\n",
       "      <td>0.00</td>\n",
       "      <td>0.00</td>\n",
       "    </tr>\n",
       "    <tr>\n",
       "      <th>PCT_DESCONTO</th>\n",
       "      <td>16780.00</td>\n",
       "      <td>19.46</td>\n",
       "      <td>77.70</td>\n",
       "      <td>0.00</td>\n",
       "      <td>15.00</td>\n",
       "      <td>20.00</td>\n",
       "      <td>25.04</td>\n",
       "      <td>10000.00</td>\n",
       "    </tr>\n",
       "    <tr>\n",
       "      <th>VL_PRECO</th>\n",
       "      <td>52088.00</td>\n",
       "      <td>545.00</td>\n",
       "      <td>250.93</td>\n",
       "      <td>234.06</td>\n",
       "      <td>389.40</td>\n",
       "      <td>461.40</td>\n",
       "      <td>593.40</td>\n",
       "      <td>5539.62</td>\n",
       "    </tr>\n",
       "    <tr>\n",
       "      <th>QT_VENDA</th>\n",
       "      <td>48946.00</td>\n",
       "      <td>34004.05</td>\n",
       "      <td>98123.67</td>\n",
       "      <td>235.00</td>\n",
       "      <td>810.00</td>\n",
       "      <td>5880.00</td>\n",
       "      <td>29964.00</td>\n",
       "      <td>4047372.00</td>\n",
       "    </tr>\n",
       "  </tbody>\n",
       "</table>\n",
       "</div>"
      ],
      "text/plain": [
       "                       count       mean        std        min        25%  \\\n",
       "COD_MATERIAL        52094.00  270394.54  154650.26    6246.00  141372.00   \n",
       "COD_CICLO           52094.00  201912.80      85.83  201801.00  201814.00   \n",
       "FLG_DATA            52094.00       0.29       0.45       0.00       0.00   \n",
       "FLG_CAMPANHA_MKT_A  52094.00       0.02       0.12       0.00       0.00   \n",
       "FLG_CAMPANHA_MKT_B  52094.00       0.24       0.40       0.00       0.00   \n",
       "FLG_CAMPANHA_MKT_C  52094.00       0.04       0.19       0.00       0.00   \n",
       "FLG_CAMPANHA_MKT_D  52094.00       0.06       0.17       0.00       0.00   \n",
       "FLG_CAMPANHA_MKT_E  52094.00       0.00       0.00       0.00       0.00   \n",
       "FLG_CAMPANHA_MKT_F  52094.00       0.00       0.00       0.00       0.00   \n",
       "PCT_DESCONTO        16780.00      19.46      77.70       0.00      15.00   \n",
       "VL_PRECO            52088.00     545.00     250.93     234.06     389.40   \n",
       "QT_VENDA            48946.00   34004.05   98123.67     235.00     810.00   \n",
       "\n",
       "                          50%        75%         max  \n",
       "COD_MATERIAL        174702.00  433710.00   502386.00  \n",
       "COD_CICLO           201910.00  202006.00   202101.00  \n",
       "FLG_DATA                 0.00       1.00        1.00  \n",
       "FLG_CAMPANHA_MKT_A       0.00       0.00        1.00  \n",
       "FLG_CAMPANHA_MKT_B       0.00       0.50        1.00  \n",
       "FLG_CAMPANHA_MKT_C       0.00       0.00        1.00  \n",
       "FLG_CAMPANHA_MKT_D       0.00       0.00        1.00  \n",
       "FLG_CAMPANHA_MKT_E       0.00       0.00        0.00  \n",
       "FLG_CAMPANHA_MKT_F       0.00       0.00        0.00  \n",
       "PCT_DESCONTO            20.00      25.04    10000.00  \n",
       "VL_PRECO               461.40     593.40     5539.62  \n",
       "QT_VENDA              5880.00   29964.00  4047372.00  "
      ]
     },
     "execution_count": 11,
     "metadata": {},
     "output_type": "execute_result"
    }
   ],
   "source": [
    "df.describe().apply(lambda s: s.apply('{0:.2f}'.format)).T"
   ]
  },
  {
   "cell_type": "code",
   "execution_count": 12,
   "id": "f4e35107",
   "metadata": {},
   "outputs": [
    {
     "name": "stdout",
     "output_type": "stream",
     "text": [
      "Colunas com valores zero (qtd relativa): \n",
      "\n",
      "FLG_CAMPANHA_MKT_E    100.000000\n",
      "FLG_CAMPANHA_MKT_F    100.000000\n",
      "FLG_CAMPANHA_MKT_A     98.448958\n",
      "FLG_CAMPANHA_MKT_C     95.995700\n",
      "FLG_CAMPANHA_MKT_D     87.516797\n",
      "FLG_CAMPANHA_MKT_B     72.948900\n",
      "FLG_DATA               70.979383\n",
      "PCT_DESCONTO            4.226974\n",
      "dtype: float64\n",
      "\n"
     ]
    }
   ],
   "source": [
    "df_zeros = (df == 0).mean()\n",
    "df_zeros = df_zeros[df_zeros > 0] * 100\n",
    "print(\"Colunas com valores zero (qtd relativa): \\n\\n{}\\n\".format(df_zeros.sort_values(ascending = False)))"
   ]
  },
  {
   "cell_type": "markdown",
   "id": "36df7b07",
   "metadata": {},
   "source": [
    "## 3.1 Tipos dos dados"
   ]
  },
  {
   "cell_type": "code",
   "execution_count": 13,
   "id": "3e1221c2",
   "metadata": {},
   "outputs": [
    {
     "name": "stdout",
     "output_type": "stream",
     "text": [
      "<class 'pandas.core.frame.DataFrame'>\n",
      "RangeIndex: 52094 entries, 0 to 52093\n",
      "Data columns (total 14 columns):\n",
      " #   Column                  Non-Null Count  Dtype  \n",
      "---  ------                  --------------  -----  \n",
      " 0   COD_MATERIAL            52094 non-null  int64  \n",
      " 1   COD_CICLO               52094 non-null  int64  \n",
      " 2   DES_CATEGORIA_MATERIAL  52094 non-null  object \n",
      " 3   DES_MARCA_MATERIAL      52094 non-null  object \n",
      " 4   FLG_DATA                52094 non-null  int64  \n",
      " 5   FLG_CAMPANHA_MKT_A      52094 non-null  float64\n",
      " 6   FLG_CAMPANHA_MKT_B      52094 non-null  float64\n",
      " 7   FLG_CAMPANHA_MKT_C      52094 non-null  float64\n",
      " 8   FLG_CAMPANHA_MKT_D      52094 non-null  float64\n",
      " 9   FLG_CAMPANHA_MKT_E      52094 non-null  float64\n",
      " 10  FLG_CAMPANHA_MKT_F      52094 non-null  float64\n",
      " 11  PCT_DESCONTO            16780 non-null  float64\n",
      " 12  VL_PRECO                52088 non-null  float64\n",
      " 13  QT_VENDA                48946 non-null  float64\n",
      "dtypes: float64(9), int64(3), object(2)\n",
      "memory usage: 5.6+ MB\n"
     ]
    }
   ],
   "source": [
    "df.info(verbose=True)"
   ]
  },
  {
   "cell_type": "markdown",
   "id": "f1e73594",
   "metadata": {},
   "source": [
    "## 3.2 Valores únicos por variável"
   ]
  },
  {
   "cell_type": "code",
   "execution_count": 14,
   "id": "9dc7999f",
   "metadata": {},
   "outputs": [
    {
     "name": "stdout",
     "output_type": "stream",
     "text": [
      "Valores únicos em cada variável: \n",
      "\n"
     ]
    },
    {
     "data": {
      "text/plain": [
       "FLG_CAMPANHA_MKT_E            1\n",
       "FLG_CAMPANHA_MKT_F            1\n",
       "FLG_DATA                      2\n",
       "FLG_CAMPANHA_MKT_C            4\n",
       "DES_CATEGORIA_MATERIAL        6\n",
       "FLG_CAMPANHA_MKT_A            6\n",
       "FLG_CAMPANHA_MKT_B            7\n",
       "FLG_CAMPANHA_MKT_D            7\n",
       "COD_CICLO                    53\n",
       "DES_MARCA_MATERIAL           85\n",
       "PCT_DESCONTO                786\n",
       "COD_MATERIAL               2252\n",
       "QT_VENDA                  14267\n",
       "VL_PRECO                  15718\n",
       "dtype: int64"
      ]
     },
     "execution_count": 14,
     "metadata": {},
     "output_type": "execute_result"
    }
   ],
   "source": [
    "pd.options.display.max_rows = 118\n",
    "print('Valores únicos em cada variável: \\n')\n",
    "df.nunique(dropna=False).sort_values()"
   ]
  },
  {
   "cell_type": "code",
   "execution_count": 15,
   "id": "f34e8001",
   "metadata": {},
   "outputs": [
    {
     "data": {
      "text/plain": [
       "array(['anon_S53', 'anon_S17', 'anon_S85', 'anon_S61', 'anon_S41',\n",
       "       'anon_S45', 'anon_S42', 'anon_S67', 'anon_S39', 'anon_S76',\n",
       "       'anon_S37', 'anon_S47', 'anon_S87', 'anon_S16', 'anon_S63',\n",
       "       'anon_S15', 'anon_S3', 'anon_S27', 'anon_S84', 'anon_S22',\n",
       "       'anon_S71', 'anon_S91', 'anon_S55', 'anon_S31', 'anon_S78',\n",
       "       'anon_S73', 'anon_S29', 'anon_S44', 'anon_S68', 'anon_S64',\n",
       "       'anon_S92', 'anon_S43', 'anon_S56', 'anon_S72', 'anon_S77',\n",
       "       'anon_S48', 'anon_S49', 'anon_S86', 'anon_S59', 'anon_S36',\n",
       "       'anon_S62', 'anon_S94', 'anon_S9', 'anon_S89', 'anon_S28',\n",
       "       'anon_S38', 'anon_S60', 'anon_S14', 'anon_S23', 'anon_S75',\n",
       "       'anon_S90', 'anon_S57', 'anon_S69', 'anon_S8', 'anon_S20',\n",
       "       'anon_S93', 'anon_S83', 'anon_S4', 'anon_S19', 'anon_S34',\n",
       "       'anon_S80', 'anon_S82', 'anon_S79', 'anon_S74', 'anon_S70',\n",
       "       'anon_S66', 'anon_S6', 'anon_S58', 'anon_S52', 'anon_S65',\n",
       "       'anon_S24', 'anon_S54', 'anon_S13', 'anon_S40', 'anon_S25',\n",
       "       'anon_S26', 'anon_S35', 'anon_S51', 'anon_S46', 'anon_S21',\n",
       "       'anon_S33', 'anon_S88', 'anon_S81', 'anon_S32', 'anon_S50'],\n",
       "      dtype=object)"
      ]
     },
     "execution_count": 15,
     "metadata": {},
     "output_type": "execute_result"
    }
   ],
   "source": [
    "df['DES_MARCA_MATERIAL'].unique()"
   ]
  },
  {
   "cell_type": "code",
   "execution_count": 16,
   "id": "c4c40d11",
   "metadata": {},
   "outputs": [
    {
     "data": {
      "text/plain": [
       "array([  6246,   6306,   6480, ..., 501060, 501084, 502386], dtype=int64)"
      ]
     },
     "execution_count": 16,
     "metadata": {},
     "output_type": "execute_result"
    }
   ],
   "source": [
    "df['COD_MATERIAL'].unique()"
   ]
  },
  {
   "cell_type": "code",
   "execution_count": 17,
   "id": "2553af38",
   "metadata": {},
   "outputs": [],
   "source": [
    "df['DES_CATEGORIA_MATERIAL'] = fill_categoric_field_with_value(df['DES_CATEGORIA_MATERIAL'])\n",
    "df['DES_MARCA_MATERIAL'] = fill_categoric_field_with_value(df['DES_MARCA_MATERIAL'])"
   ]
  },
  {
   "cell_type": "code",
   "execution_count": 18,
   "id": "be132b05",
   "metadata": {},
   "outputs": [
    {
     "data": {
      "text/plain": [
       "array([ 1,  2,  3,  4,  5,  6,  7,  8,  9, 10, 11, 12, 13, 14, 15, 16, 17,\n",
       "       18, 19, 20, 21, 22, 23, 24, 25, 26, 27, 28, 29, 30, 31, 32, 33, 34,\n",
       "       35, 36, 37, 38, 39, 40, 41, 42, 43, 44, 45, 46, 47, 48, 49, 50, 51,\n",
       "       52, 53, 54, 55, 56, 57, 58, 59, 60, 61, 62, 63, 64, 65, 66, 67, 68,\n",
       "       69, 70, 71, 72, 73, 74, 75, 76, 77, 78, 79, 80, 81, 82, 83, 84, 85],\n",
       "      dtype=int64)"
      ]
     },
     "execution_count": 18,
     "metadata": {},
     "output_type": "execute_result"
    }
   ],
   "source": [
    "df['DES_MARCA_MATERIAL'].unique()"
   ]
  },
  {
   "cell_type": "code",
   "execution_count": 19,
   "id": "87cfcb5d",
   "metadata": {},
   "outputs": [
    {
     "data": {
      "text/plain": [
       "array([1, 2, 3, 4, 5, 6], dtype=int64)"
      ]
     },
     "execution_count": 19,
     "metadata": {},
     "output_type": "execute_result"
    }
   ],
   "source": [
    "df['DES_CATEGORIA_MATERIAL'].unique()"
   ]
  },
  {
   "cell_type": "markdown",
   "id": "89cae552",
   "metadata": {},
   "source": [
    "### 3.2.1 Análise do campo COD_CICLO"
   ]
  },
  {
   "cell_type": "code",
   "execution_count": 20,
   "id": "ae72bf07",
   "metadata": {},
   "outputs": [
    {
     "data": {
      "text/plain": [
       "array([201908, 201915, 201916, 201801, 201802, 201803, 201804, 201805,\n",
       "       201806, 201807, 201808, 201809, 201810, 201811, 201813, 201902,\n",
       "       201904, 201914, 202002, 202101, 201812, 201903, 201910, 201913,\n",
       "       202003, 202008, 202011, 202016, 201917, 202015, 201817, 201901,\n",
       "       201912, 201818, 201907, 201911, 201814, 201905, 202001, 202004,\n",
       "       202005, 202006, 202007, 202009, 202010, 202012, 202013, 202017,\n",
       "       201906, 201815, 201816, 201909, 202014], dtype=int64)"
      ]
     },
     "execution_count": 20,
     "metadata": {},
     "output_type": "execute_result"
    }
   ],
   "source": [
    "df['COD_CICLO'].unique()"
   ]
  },
  {
   "cell_type": "code",
   "execution_count": 21,
   "id": "e1d695d7",
   "metadata": {},
   "outputs": [],
   "source": [
    "df['CICLO'] = df['COD_CICLO'].astype(str).str.slice(start=4).astype(int)"
   ]
  },
  {
   "cell_type": "code",
   "execution_count": 22,
   "id": "1b4151a3",
   "metadata": {},
   "outputs": [],
   "source": [
    "df['ANO'] = df['COD_CICLO'].astype(str).str.slice(stop=4).astype(int)"
   ]
  },
  {
   "cell_type": "code",
   "execution_count": 23,
   "id": "f0aa58be",
   "metadata": {},
   "outputs": [
    {
     "data": {
      "text/plain": [
       "array([ 8, 15, 16,  1,  2,  3,  4,  5,  6,  7,  9, 10, 11, 13, 14, 12, 17,\n",
       "       18])"
      ]
     },
     "execution_count": 23,
     "metadata": {},
     "output_type": "execute_result"
    }
   ],
   "source": [
    "df['CICLO'].unique()"
   ]
  },
  {
   "cell_type": "code",
   "execution_count": 24,
   "id": "4bd4710a",
   "metadata": {},
   "outputs": [
    {
     "data": {
      "text/plain": [
       "array([2019, 2018, 2020, 2021])"
      ]
     },
     "execution_count": 24,
     "metadata": {},
     "output_type": "execute_result"
    }
   ],
   "source": [
    "df['ANO'].unique()"
   ]
  },
  {
   "cell_type": "code",
   "execution_count": 25,
   "id": "31607505",
   "metadata": {},
   "outputs": [
    {
     "data": {
      "text/html": [
       "<div>\n",
       "<style scoped>\n",
       "    .dataframe tbody tr th:only-of-type {\n",
       "        vertical-align: middle;\n",
       "    }\n",
       "\n",
       "    .dataframe tbody tr th {\n",
       "        vertical-align: top;\n",
       "    }\n",
       "\n",
       "    .dataframe thead th {\n",
       "        text-align: right;\n",
       "    }\n",
       "</style>\n",
       "<table border=\"1\" class=\"dataframe\">\n",
       "  <thead>\n",
       "    <tr style=\"text-align: right;\">\n",
       "      <th></th>\n",
       "      <th>ANO</th>\n",
       "      <th>CICLO</th>\n",
       "    </tr>\n",
       "  </thead>\n",
       "  <tbody>\n",
       "    <tr>\n",
       "      <th>59</th>\n",
       "      <td>2018</td>\n",
       "      <td>18</td>\n",
       "    </tr>\n",
       "    <tr>\n",
       "      <th>49</th>\n",
       "      <td>2019</td>\n",
       "      <td>17</td>\n",
       "    </tr>\n",
       "    <tr>\n",
       "      <th>114</th>\n",
       "      <td>2020</td>\n",
       "      <td>17</td>\n",
       "    </tr>\n",
       "    <tr>\n",
       "      <th>29</th>\n",
       "      <td>2021</td>\n",
       "      <td>1</td>\n",
       "    </tr>\n",
       "  </tbody>\n",
       "</table>\n",
       "</div>"
      ],
      "text/plain": [
       "      ANO  CICLO\n",
       "59   2018     18\n",
       "49   2019     17\n",
       "114  2020     17\n",
       "29   2021      1"
      ]
     },
     "execution_count": 25,
     "metadata": {},
     "output_type": "execute_result"
    }
   ],
   "source": [
    "aux=df.groupby('ANO')['CICLO'].idxmax()\n",
    "df_tamanho_ciclos = df.loc[aux][['ANO','CICLO']]\n",
    "df_tamanho_ciclos.head()"
   ]
  },
  {
   "cell_type": "markdown",
   "id": "a2ddad64",
   "metadata": {},
   "source": [
    "#### 3.2.1.1 Análise da disponibilidade de informações por produto (Quantidade de ciclos que cada produto aparece)"
   ]
  },
  {
   "cell_type": "code",
   "execution_count": 26,
   "id": "de140099",
   "metadata": {},
   "outputs": [
    {
     "name": "stdout",
     "output_type": "stream",
     "text": [
      "\n",
      "**** Valores únicos para cada coluna relacionada com o produto ****\n",
      "Valores unicos para COD_MATERIAL=2252\n",
      "Valores unicos para DES_MARCA_MATERIAL=85\n",
      "Valores unicos para DES_CATEGORIA_MATERIAL=6\n",
      "\n",
      "**** Dados estatísticos para a quantidade de ciclos por COD_MATERIAL ****\n",
      "count    2252.000000\n",
      "mean       23.132327\n",
      "std        19.235714\n",
      "min         1.000000\n",
      "25%         4.000000\n",
      "50%        20.000000\n",
      "75%        41.000000\n",
      "max        53.000000\n",
      "Name: COD_CICLO, dtype: float64\n",
      "\n",
      "**** Dados estatísticos para a quantidade de ciclos por DES_MARCA_MATERIAL ****\n",
      "count       85.000000\n",
      "mean       612.870588\n",
      "std       1529.509459\n",
      "min          1.000000\n",
      "25%          6.000000\n",
      "50%         36.000000\n",
      "75%        417.000000\n",
      "max      10302.000000\n",
      "Name: COD_CICLO, dtype: float64\n",
      "\n",
      "**** Dados estatísticos para a quantidade de ciclos por DES_CATEGORIA_MATERIAL ****\n",
      "count        6.000000\n",
      "mean      8682.333333\n",
      "std       5276.979616\n",
      "min       2205.000000\n",
      "25%       4094.500000\n",
      "50%       9923.000000\n",
      "75%      12859.500000\n",
      "max      14053.000000\n",
      "Name: COD_CICLO, dtype: float64\n"
     ]
    }
   ],
   "source": [
    "print('\\n**** Valores únicos para cada coluna relacionada com o produto ****')\n",
    "aux = df['COD_MATERIAL'].unique()\n",
    "print('Valores unicos para COD_MATERIAL=' + str(aux.shape[0]))\n",
    "aux = df['DES_MARCA_MATERIAL'].unique()\n",
    "print('Valores unicos para DES_MARCA_MATERIAL=' + str(aux.shape[0]))\n",
    "aux = df['DES_CATEGORIA_MATERIAL'].unique()\n",
    "print('Valores unicos para DES_CATEGORIA_MATERIAL=' + str(aux.shape[0]))\n",
    "\n",
    "print('\\n**** Dados estatísticos para a quantidade de ciclos por COD_MATERIAL ****')\n",
    "\n",
    "aux_cod = df.groupby(['COD_MATERIAL']).agg({'COD_CICLO' : 'count'}).reset_index()\n",
    "# aux_cod = aux_cod.groupby(['COD_CICLO']).agg({'COD_MATERIAL' : 'count'}).reset_index()\n",
    "print(aux_cod['COD_CICLO'].describe())\n",
    "\n",
    "print('\\n**** Dados estatísticos para a quantidade de ciclos por DES_MARCA_MATERIAL ****')\n",
    "aux_marca = df.groupby(['DES_MARCA_MATERIAL']).agg({'COD_CICLO' : 'count'}).reset_index()\n",
    "# aux_marca = aux_marca.groupby(['COD_CICLO']).agg({'DES_MARCA_MATERIAL' : 'count'}).reset_index()\n",
    "print(aux_marca['COD_CICLO'].describe())\n",
    "\n",
    "print('\\n**** Dados estatísticos para a quantidade de ciclos por DES_CATEGORIA_MATERIAL ****')\n",
    "aux_categoria = df.groupby(['DES_CATEGORIA_MATERIAL']).agg({'COD_CICLO' : 'count'}).reset_index()\n",
    "# aux_categoria = aux_categoria.groupby(['COD_CICLO']).agg({'DES_CATEGORIA_MATERIAL' : 'count'}).reset_index()\n",
    "print(aux_categoria['COD_CICLO'].describe())"
   ]
  },
  {
   "cell_type": "code",
   "execution_count": 27,
   "id": "a3f7ba78",
   "metadata": {},
   "outputs": [
    {
     "data": {
      "text/plain": [
       "<AxesSubplot:title={'center':'Categoria Material'}, xlabel='Número de Ciclos', ylabel='Quantidade de Categorias'>"
      ]
     },
     "execution_count": 27,
     "metadata": {},
     "output_type": "execute_result"
    },
    {
     "data": {
      "image/png": "[encoded data removed]",
      "text/plain": [
       "<Figure size 1400x500 with 3 Axes>"
      ]
     },
     "metadata": {},
     "output_type": "display_data"
    }
   ],
   "source": [
    "fig, axs = plt.subplots(1, 3, figsize=(14, 5))\n",
    "fig.suptitle('Análise da quantidade de Ciclos', fontsize=16)\n",
    "axs[0].set_title('Codigo Material')\n",
    "axs[0].set_ylabel('Quantidade de Códigos')\n",
    "axs[0].set_xlabel('Número de Ciclos')\n",
    "axs[1].set_title('Marca Material')\n",
    "axs[1].set_ylabel('Quantidade de Marcas')\n",
    "axs[1].set_xlabel('Número de Ciclos')\n",
    "axs[2].set_title('Categoria Material')\n",
    "axs[2].set_ylabel('Quantidade de Categorias')\n",
    "axs[2].set_xlabel('Número de Ciclos')\n",
    "sns.histplot(data=aux_cod, x='COD_CICLO',color=\"skyblue\", ax=axs[0])\n",
    "sns.histplot(data=aux_marca, x='COD_CICLO',color=\"olive\", ax=axs[1])\n",
    "sns.histplot(data=aux_categoria, x='COD_CICLO',color=\"gold\",ax=axs[2])"
   ]
  },
  {
   "cell_type": "markdown",
   "id": "308dedef",
   "metadata": {},
   "source": [
    "## 3.2.2 Análise das FLAGs de campanhas"
   ]
  },
  {
   "cell_type": "markdown",
   "id": "aca82b8e",
   "metadata": {},
   "source": [
    "#### Flags deveriam ter exatamente dois valores : 0 e 1.   "
   ]
  },
  {
   "cell_type": "code",
   "execution_count": 28,
   "id": "618ab0f1",
   "metadata": {},
   "outputs": [
    {
     "name": "stdout",
     "output_type": "stream",
     "text": [
      "[0.         1.         0.66666667 0.5        0.33333333 0.25      ]\n",
      "[0.         1.         0.5        0.25       0.33333333 0.66666667\n",
      " 0.75      ]\n",
      "[0.         1.         0.5        0.66666667]\n",
      "[0.         0.5        0.25       0.33333333 0.66666667 1.\n",
      " 0.75      ]\n",
      "[0.]\n",
      "[0.]\n",
      "[1 0]\n"
     ]
    }
   ],
   "source": [
    "print(df['FLG_CAMPANHA_MKT_A'].unique())\n",
    "print(df['FLG_CAMPANHA_MKT_B'].unique())\n",
    "print(df['FLG_CAMPANHA_MKT_C'].unique())\n",
    "print(df['FLG_CAMPANHA_MKT_D'].unique())\n",
    "print(df['FLG_CAMPANHA_MKT_E'].unique())\n",
    "print(df['FLG_CAMPANHA_MKT_F'].unique())\n",
    "print(df['FLG_DATA'].unique())"
   ]
  },
  {
   "cell_type": "markdown",
   "id": "78fd6d71",
   "metadata": {},
   "source": [
    "#### Flags E e F somente Nulo, não acrescentariam informações nenhuma ao modelo, podem ser retiradas."
   ]
  },
  {
   "cell_type": "code",
   "execution_count": 29,
   "id": "fd478685",
   "metadata": {},
   "outputs": [],
   "source": [
    "df.drop(['FLG_CAMPANHA_MKT_E' , 'FLG_CAMPANHA_MKT_F'],axis = 1,inplace=True)"
   ]
  },
  {
   "cell_type": "markdown",
   "id": "21f5b945",
   "metadata": {},
   "source": [
    "#### Flags A, B, C e D possuem valores diferentes de 0 e 1\n",
    "#### FLG_CAMPANHA_MKT_A"
   ]
  },
  {
   "cell_type": "code",
   "execution_count": 30,
   "id": "885ccbf8",
   "metadata": {},
   "outputs": [
    {
     "name": "stdout",
     "output_type": "stream",
     "text": [
      "FLG_CAMPANHA_MKT_A\n",
      "0.000000    51286\n",
      "0.250000        1\n",
      "0.333333        7\n",
      "0.500000       18\n",
      "0.666667        2\n",
      "1.000000      780\n",
      "dtype: int64\n"
     ]
    },
    {
     "data": {
      "text/plain": [
       "<AxesSubplot:xlabel='FLG_CAMPANHA_MKT_A', ylabel='count'>"
      ]
     },
     "execution_count": 30,
     "metadata": {},
     "output_type": "execute_result"
    },
    {
     "data": {
      "image/png": "[encoded data removed]",
      "text/plain": [
       "<Figure size 400x200 with 1 Axes>"
      ]
     },
     "metadata": {},
     "output_type": "display_data"
    }
   ],
   "source": [
    "print(df.groupby('FLG_CAMPANHA_MKT_A').size())\n",
    "plt.figure(figsize=(4,2))\n",
    "sns.countplot(x = df['FLG_CAMPANHA_MKT_A'].round(2))"
   ]
  },
  {
   "cell_type": "markdown",
   "id": "66078376",
   "metadata": {},
   "source": [
    "#### FLG_CAMPANHA_MKT_B"
   ]
  },
  {
   "cell_type": "code",
   "execution_count": 31,
   "id": "11961448",
   "metadata": {},
   "outputs": [
    {
     "name": "stdout",
     "output_type": "stream",
     "text": [
      "FLG_CAMPANHA_MKT_B\n",
      "0.000000    38002\n",
      "0.250000       63\n",
      "0.333333       32\n",
      "0.500000     3401\n",
      "0.666667       35\n",
      "0.750000       66\n",
      "1.000000    10495\n",
      "dtype: int64\n"
     ]
    },
    {
     "data": {
      "text/plain": [
       "<AxesSubplot:xlabel='FLG_CAMPANHA_MKT_B', ylabel='count'>"
      ]
     },
     "execution_count": 31,
     "metadata": {},
     "output_type": "execute_result"
    },
    {
     "data": {
      "image/png": "[encoded data removed]",
      "text/plain": [
       "<Figure size 400x200 with 1 Axes>"
      ]
     },
     "metadata": {},
     "output_type": "display_data"
    }
   ],
   "source": [
    "print(df.groupby('FLG_CAMPANHA_MKT_B').size())\n",
    "plt.figure(figsize=(4,2))\n",
    "sns.countplot(x = df['FLG_CAMPANHA_MKT_B'].round(2))"
   ]
  },
  {
   "cell_type": "markdown",
   "id": "6fec9962",
   "metadata": {},
   "source": [
    "#### FLG_CAMPANHA_MKT_C"
   ]
  },
  {
   "cell_type": "code",
   "execution_count": 32,
   "id": "4cdf2088",
   "metadata": {},
   "outputs": [
    {
     "name": "stdout",
     "output_type": "stream",
     "text": [
      "FLG_CAMPANHA_MKT_C\n",
      "0.000000    50008\n",
      "0.500000      128\n",
      "0.666667        1\n",
      "1.000000     1957\n",
      "dtype: int64\n"
     ]
    },
    {
     "data": {
      "text/plain": [
       "<AxesSubplot:xlabel='FLG_CAMPANHA_MKT_C', ylabel='count'>"
      ]
     },
     "execution_count": 32,
     "metadata": {},
     "output_type": "execute_result"
    },
    {
     "data": {
      "image/png": "[encoded data removed]",
      "text/plain": [
       "<Figure size 400x200 with 1 Axes>"
      ]
     },
     "metadata": {},
     "output_type": "display_data"
    }
   ],
   "source": [
    "print(df.groupby('FLG_CAMPANHA_MKT_C').size())\n",
    "plt.figure(figsize=(4,2))\n",
    "sns.countplot(x = df['FLG_CAMPANHA_MKT_C'].round(2))"
   ]
  },
  {
   "cell_type": "markdown",
   "id": "ea44f04d",
   "metadata": {},
   "source": [
    "#### FLG_CAMPANHA_MKT_D"
   ]
  },
  {
   "cell_type": "code",
   "execution_count": 33,
   "id": "0c2a9dc7",
   "metadata": {},
   "outputs": [
    {
     "name": "stdout",
     "output_type": "stream",
     "text": [
      "FLG_CAMPANHA_MKT_D\n",
      "0.000000    45591\n",
      "0.250000      409\n",
      "0.333333       16\n",
      "0.500000     5954\n",
      "0.666667       17\n",
      "0.750000       32\n",
      "1.000000       75\n",
      "dtype: int64\n"
     ]
    },
    {
     "data": {
      "text/plain": [
       "<AxesSubplot:xlabel='FLG_CAMPANHA_MKT_D', ylabel='count'>"
      ]
     },
     "execution_count": 33,
     "metadata": {},
     "output_type": "execute_result"
    },
    {
     "data": {
      "image/png": "[encoded data removed]",
      "text/plain": [
       "<Figure size 400x200 with 1 Axes>"
      ]
     },
     "metadata": {},
     "output_type": "display_data"
    }
   ],
   "source": [
    "print(df.groupby('FLG_CAMPANHA_MKT_D').size())\n",
    "plt.figure(figsize=(4,2))\n",
    "sns.countplot(x = df['FLG_CAMPANHA_MKT_D'].round(2))"
   ]
  },
  {
   "cell_type": "markdown",
   "id": "84edce43",
   "metadata": {},
   "source": [
    "#### Explicação \n",
    "\n",
    "Como os valores encontrados nas Flags são todos 0, 1/4, 1/3, 1/2, 2/3, 3/4 e 1, entendemos que a flag significaria a fração do tempo do ciclo que a campanha existiu."
   ]
  },
  {
   "cell_type": "markdown",
   "id": "5fe1f637",
   "metadata": {},
   "source": [
    "## 3.3 Valores ausentes"
   ]
  },
  {
   "cell_type": "code",
   "execution_count": 34,
   "id": "74ea9b5d",
   "metadata": {},
   "outputs": [
    {
     "name": "stdout",
     "output_type": "stream",
     "text": [
      "COD_MATERIAL                  0\n",
      "COD_CICLO                     0\n",
      "DES_CATEGORIA_MATERIAL        0\n",
      "DES_MARCA_MATERIAL            0\n",
      "FLG_DATA                      0\n",
      "FLG_CAMPANHA_MKT_A            0\n",
      "FLG_CAMPANHA_MKT_B            0\n",
      "FLG_CAMPANHA_MKT_C            0\n",
      "FLG_CAMPANHA_MKT_D            0\n",
      "PCT_DESCONTO              35314\n",
      "VL_PRECO                      6\n",
      "QT_VENDA                   3148\n",
      "CICLO                         0\n",
      "ANO                           0\n",
      "dtype: int64\n",
      "\n",
      " Colunas com valores ausentes (qtd relativa): \n",
      "\n",
      "PCT_DESCONTO    67.788997\n",
      "QT_VENDA         6.042922\n",
      "VL_PRECO         0.011518\n",
      "dtype: float64\n",
      "\n"
     ]
    }
   ],
   "source": [
    "print(df.isnull().sum())\n",
    "\n",
    "df_null = df.isnull().mean(axis = 0)\n",
    "df_null = df_null[df_null > 0] * 100\n",
    "print(\"\\n Colunas com valores ausentes (qtd relativa): \\n\\n{}\\n\".format(df_null.sort_values(axis=0, ascending=False)))"
   ]
  },
  {
   "cell_type": "markdown",
   "id": "47625fbd",
   "metadata": {},
   "source": [
    "### 3.3.1 Análise coluna VL_PRECO\n",
    "##### Para o VL_PRECO, por serem somente 6 casos, melhor opção seria retirar as linhas da base."
   ]
  },
  {
   "cell_type": "code",
   "execution_count": 35,
   "id": "dfc010e6",
   "metadata": {},
   "outputs": [],
   "source": [
    "df.dropna(subset = ['VL_PRECO'], inplace = True ) "
   ]
  },
  {
   "cell_type": "code",
   "execution_count": 36,
   "id": "82151ac7",
   "metadata": {},
   "outputs": [
    {
     "name": "stdout",
     "output_type": "stream",
     "text": [
      "COD_MATERIAL                  0\n",
      "COD_CICLO                     0\n",
      "DES_CATEGORIA_MATERIAL        0\n",
      "DES_MARCA_MATERIAL            0\n",
      "FLG_DATA                      0\n",
      "FLG_CAMPANHA_MKT_A            0\n",
      "FLG_CAMPANHA_MKT_B            0\n",
      "FLG_CAMPANHA_MKT_C            0\n",
      "FLG_CAMPANHA_MKT_D            0\n",
      "PCT_DESCONTO              35308\n",
      "VL_PRECO                      0\n",
      "QT_VENDA                   3148\n",
      "CICLO                         0\n",
      "ANO                           0\n",
      "dtype: int64\n"
     ]
    }
   ],
   "source": [
    "print(df.isnull().sum())"
   ]
  },
  {
   "cell_type": "markdown",
   "id": "181dba29",
   "metadata": {},
   "source": [
    "### 3.3.2 Análise coluna PCT_Desconto"
   ]
  },
  {
   "cell_type": "code",
   "execution_count": 37,
   "id": "4a3b2858",
   "metadata": {},
   "outputs": [
    {
     "name": "stdout",
     "output_type": "stream",
     "text": [
      "PCT_DESCONTO\n",
      "0.0000        2202\n",
      "0.3330          85\n",
      "2.5000          29\n",
      "3.7500           2\n",
      "5.0000         154\n",
      "              ... \n",
      "33.4900          5\n",
      "33.7575          2\n",
      "34.1650          3\n",
      "35.0000        889\n",
      "10000.0000       1\n",
      "Length: 785, dtype: int64\n"
     ]
    }
   ],
   "source": [
    "print(df.groupby('PCT_DESCONTO').size())"
   ]
  },
  {
   "cell_type": "markdown",
   "id": "46a31e4b",
   "metadata": {},
   "source": [
    "#### Observações:\n",
    "##### PCT_Desconto, por ser uma porcetagem, não pode existir um desconto acima de 100%.\n",
    "##### Gerar Modelos e avaliar a eficácia para, onde estiver nulo:\n",
    "    - colocar 0.0 (opção escolhida)\n",
    "    - colocar a moda\n",
    "    - colocar a média"
   ]
  },
  {
   "cell_type": "code",
   "execution_count": 38,
   "id": "fb770265",
   "metadata": {},
   "outputs": [],
   "source": [
    "df = df.drop(df[df['PCT_DESCONTO'] > 100].index)"
   ]
  },
  {
   "cell_type": "code",
   "execution_count": 39,
   "id": "cdb6c789",
   "metadata": {},
   "outputs": [],
   "source": [
    "df['PCT_DESCONTO'].fillna(0, inplace=True)"
   ]
  },
  {
   "cell_type": "code",
   "execution_count": 40,
   "id": "473e67b1",
   "metadata": {},
   "outputs": [
    {
     "name": "stdout",
     "output_type": "stream",
     "text": [
      "PCT_DESCONTO\n",
      "0.0000     37510\n",
      "0.3330        85\n",
      "2.5000        29\n",
      "3.7500         2\n",
      "5.0000       154\n",
      "           ...  \n",
      "33.4800        5\n",
      "33.4900        5\n",
      "33.7575        2\n",
      "34.1650        3\n",
      "35.0000      889\n",
      "Length: 784, dtype: int64\n"
     ]
    }
   ],
   "source": [
    "print(df.groupby('PCT_DESCONTO').size())"
   ]
  },
  {
   "cell_type": "code",
   "execution_count": 41,
   "id": "f17d02be",
   "metadata": {},
   "outputs": [
    {
     "data": {
      "text/plain": [
       "array([202101, 202016, 202017], dtype=int64)"
      ]
     },
     "execution_count": 41,
     "metadata": {},
     "output_type": "execute_result"
    }
   ],
   "source": [
    "df['COD_CICLO'][df['QT_VENDA'].isnull()].unique()"
   ]
  },
  {
   "cell_type": "markdown",
   "id": "6026b1b3",
   "metadata": {},
   "source": [
    "#### todos os nulos da quantidade de vendas são da base a qual devemos prever tal quantidade"
   ]
  },
  {
   "cell_type": "markdown",
   "id": "d4c731a2",
   "metadata": {},
   "source": [
    "## 3.4 Verificação do impacto da pandemia nas Vendas"
   ]
  },
  {
   "cell_type": "code",
   "execution_count": 42,
   "id": "a5c3ee9b",
   "metadata": {},
   "outputs": [
    {
     "data": {
      "text/plain": [
       "<AxesSubplot:xlabel='CICLO', ylabel='VENDAS'>"
      ]
     },
     "execution_count": 42,
     "metadata": {},
     "output_type": "execute_result"
    },
    {
     "data": {
      "image/png": "[encoded data removed]",
      "text/plain": [
       "<Figure size 640x480 with 1 Axes>"
      ]
     },
     "metadata": {},
     "output_type": "display_data"
    }
   ],
   "source": [
    "df_18 = df[df['ANO'] == 2018]\n",
    "df_19 = df[df['ANO'] == 2019]\n",
    "df_20 = df[df['ANO'] == 2020]\n",
    "\n",
    "a=df_18.groupby('CICLO')['QT_VENDA'].sum().reset_index(name='VENDAS')\n",
    "a['ANO'] = 2018\n",
    "b=df_19.groupby('CICLO')['QT_VENDA'].sum().reset_index(name='VENDAS')\n",
    "b['ANO'] = 2019\n",
    "c=df_20.groupby('CICLO')['QT_VENDA'].sum().reset_index(name='VENDAS')\n",
    "c['ANO'] = 2020\n",
    "\n",
    "aux = pd.concat([a , b , c])\n",
    "\n",
    "\n",
    "sns.barplot(data=aux , x='CICLO' , y='VENDAS' , hue='ANO' , palette=[\"lightblue\" , \"blue\" , \"darkblue\"])"
   ]
  },
  {
   "cell_type": "code",
   "execution_count": 43,
   "id": "d590d3f8",
   "metadata": {},
   "outputs": [],
   "source": [
    "df_18 = df[df['ANO'] == 2018]\n",
    "df_19 = df[df['ANO'] == 2019]\n",
    "df_20 = df[df['ANO'] == 2020]"
   ]
  },
  {
   "cell_type": "code",
   "execution_count": 44,
   "id": "7e54c64e",
   "metadata": {
    "scrolled": true
   },
   "outputs": [
    {
     "data": {
      "text/html": [
       "<div>\n",
       "<style scoped>\n",
       "    .dataframe tbody tr th:only-of-type {\n",
       "        vertical-align: middle;\n",
       "    }\n",
       "\n",
       "    .dataframe tbody tr th {\n",
       "        vertical-align: top;\n",
       "    }\n",
       "\n",
       "    .dataframe thead th {\n",
       "        text-align: right;\n",
       "    }\n",
       "</style>\n",
       "<table border=\"1\" class=\"dataframe\">\n",
       "  <thead>\n",
       "    <tr style=\"text-align: right;\">\n",
       "      <th></th>\n",
       "      <th>COD_MATERIAL</th>\n",
       "      <th>COD_CICLO</th>\n",
       "      <th>DES_CATEGORIA_MATERIAL</th>\n",
       "      <th>DES_MARCA_MATERIAL</th>\n",
       "      <th>FLG_DATA</th>\n",
       "      <th>FLG_CAMPANHA_MKT_A</th>\n",
       "      <th>FLG_CAMPANHA_MKT_B</th>\n",
       "      <th>FLG_CAMPANHA_MKT_C</th>\n",
       "      <th>FLG_CAMPANHA_MKT_D</th>\n",
       "      <th>PCT_DESCONTO</th>\n",
       "      <th>VL_PRECO</th>\n",
       "      <th>QT_VENDA</th>\n",
       "      <th>CICLO</th>\n",
       "      <th>ANO</th>\n",
       "    </tr>\n",
       "  </thead>\n",
       "  <tbody>\n",
       "    <tr>\n",
       "      <th>3</th>\n",
       "      <td>6480</td>\n",
       "      <td>201801</td>\n",
       "      <td>1</td>\n",
       "      <td>2</td>\n",
       "      <td>0</td>\n",
       "      <td>0.0</td>\n",
       "      <td>0.0</td>\n",
       "      <td>0.0</td>\n",
       "      <td>0.0</td>\n",
       "      <td>0.0</td>\n",
       "      <td>833.4</td>\n",
       "      <td>528.0</td>\n",
       "      <td>1</td>\n",
       "      <td>2018</td>\n",
       "    </tr>\n",
       "    <tr>\n",
       "      <th>4</th>\n",
       "      <td>6480</td>\n",
       "      <td>201802</td>\n",
       "      <td>1</td>\n",
       "      <td>2</td>\n",
       "      <td>0</td>\n",
       "      <td>0.0</td>\n",
       "      <td>0.0</td>\n",
       "      <td>0.0</td>\n",
       "      <td>0.0</td>\n",
       "      <td>0.0</td>\n",
       "      <td>833.4</td>\n",
       "      <td>564.0</td>\n",
       "      <td>2</td>\n",
       "      <td>2018</td>\n",
       "    </tr>\n",
       "    <tr>\n",
       "      <th>5</th>\n",
       "      <td>6480</td>\n",
       "      <td>201803</td>\n",
       "      <td>1</td>\n",
       "      <td>2</td>\n",
       "      <td>0</td>\n",
       "      <td>0.0</td>\n",
       "      <td>0.0</td>\n",
       "      <td>0.0</td>\n",
       "      <td>0.0</td>\n",
       "      <td>0.0</td>\n",
       "      <td>833.4</td>\n",
       "      <td>528.0</td>\n",
       "      <td>3</td>\n",
       "      <td>2018</td>\n",
       "    </tr>\n",
       "    <tr>\n",
       "      <th>6</th>\n",
       "      <td>6480</td>\n",
       "      <td>201804</td>\n",
       "      <td>1</td>\n",
       "      <td>2</td>\n",
       "      <td>0</td>\n",
       "      <td>0.0</td>\n",
       "      <td>0.0</td>\n",
       "      <td>0.0</td>\n",
       "      <td>0.0</td>\n",
       "      <td>0.0</td>\n",
       "      <td>833.4</td>\n",
       "      <td>540.0</td>\n",
       "      <td>4</td>\n",
       "      <td>2018</td>\n",
       "    </tr>\n",
       "    <tr>\n",
       "      <th>7</th>\n",
       "      <td>6480</td>\n",
       "      <td>201805</td>\n",
       "      <td>1</td>\n",
       "      <td>2</td>\n",
       "      <td>0</td>\n",
       "      <td>0.0</td>\n",
       "      <td>0.0</td>\n",
       "      <td>0.0</td>\n",
       "      <td>0.0</td>\n",
       "      <td>0.0</td>\n",
       "      <td>833.4</td>\n",
       "      <td>522.0</td>\n",
       "      <td>5</td>\n",
       "      <td>2018</td>\n",
       "    </tr>\n",
       "  </tbody>\n",
       "</table>\n",
       "</div>"
      ],
      "text/plain": [
       "   COD_MATERIAL  COD_CICLO  DES_CATEGORIA_MATERIAL  DES_MARCA_MATERIAL  \\\n",
       "3          6480     201801                       1                   2   \n",
       "4          6480     201802                       1                   2   \n",
       "5          6480     201803                       1                   2   \n",
       "6          6480     201804                       1                   2   \n",
       "7          6480     201805                       1                   2   \n",
       "\n",
       "   FLG_DATA  FLG_CAMPANHA_MKT_A  FLG_CAMPANHA_MKT_B  FLG_CAMPANHA_MKT_C  \\\n",
       "3         0                 0.0                 0.0                 0.0   \n",
       "4         0                 0.0                 0.0                 0.0   \n",
       "5         0                 0.0                 0.0                 0.0   \n",
       "6         0                 0.0                 0.0                 0.0   \n",
       "7         0                 0.0                 0.0                 0.0   \n",
       "\n",
       "   FLG_CAMPANHA_MKT_D  PCT_DESCONTO  VL_PRECO  QT_VENDA  CICLO   ANO  \n",
       "3                 0.0           0.0     833.4     528.0      1  2018  \n",
       "4                 0.0           0.0     833.4     564.0      2  2018  \n",
       "5                 0.0           0.0     833.4     528.0      3  2018  \n",
       "6                 0.0           0.0     833.4     540.0      4  2018  \n",
       "7                 0.0           0.0     833.4     522.0      5  2018  "
      ]
     },
     "execution_count": 44,
     "metadata": {},
     "output_type": "execute_result"
    }
   ],
   "source": [
    "df_18.head()"
   ]
  },
  {
   "cell_type": "code",
   "execution_count": 45,
   "id": "08712fc9",
   "metadata": {},
   "outputs": [
    {
     "data": {
      "text/html": [
       "<div>\n",
       "<style scoped>\n",
       "    .dataframe tbody tr th:only-of-type {\n",
       "        vertical-align: middle;\n",
       "    }\n",
       "\n",
       "    .dataframe tbody tr th {\n",
       "        vertical-align: top;\n",
       "    }\n",
       "\n",
       "    .dataframe thead th {\n",
       "        text-align: right;\n",
       "    }\n",
       "</style>\n",
       "<table border=\"1\" class=\"dataframe\">\n",
       "  <thead>\n",
       "    <tr style=\"text-align: right;\">\n",
       "      <th></th>\n",
       "      <th>COD_MATERIAL</th>\n",
       "      <th>COD_CICLO</th>\n",
       "      <th>DES_CATEGORIA_MATERIAL</th>\n",
       "      <th>DES_MARCA_MATERIAL</th>\n",
       "      <th>FLG_DATA</th>\n",
       "      <th>FLG_CAMPANHA_MKT_A</th>\n",
       "      <th>FLG_CAMPANHA_MKT_B</th>\n",
       "      <th>FLG_CAMPANHA_MKT_C</th>\n",
       "      <th>FLG_CAMPANHA_MKT_D</th>\n",
       "      <th>PCT_DESCONTO</th>\n",
       "      <th>VL_PRECO</th>\n",
       "      <th>QT_VENDA</th>\n",
       "      <th>CICLO</th>\n",
       "      <th>ANO</th>\n",
       "    </tr>\n",
       "  </thead>\n",
       "  <tbody>\n",
       "    <tr>\n",
       "      <th>0</th>\n",
       "      <td>6246</td>\n",
       "      <td>201908</td>\n",
       "      <td>1</td>\n",
       "      <td>1</td>\n",
       "      <td>1</td>\n",
       "      <td>0.0</td>\n",
       "      <td>0.0</td>\n",
       "      <td>0.0</td>\n",
       "      <td>0.0</td>\n",
       "      <td>0.0</td>\n",
       "      <td>461.4</td>\n",
       "      <td>240.0</td>\n",
       "      <td>8</td>\n",
       "      <td>2019</td>\n",
       "    </tr>\n",
       "    <tr>\n",
       "      <th>1</th>\n",
       "      <td>6246</td>\n",
       "      <td>201915</td>\n",
       "      <td>1</td>\n",
       "      <td>1</td>\n",
       "      <td>0</td>\n",
       "      <td>0.0</td>\n",
       "      <td>0.0</td>\n",
       "      <td>0.0</td>\n",
       "      <td>0.0</td>\n",
       "      <td>0.0</td>\n",
       "      <td>461.4</td>\n",
       "      <td>240.0</td>\n",
       "      <td>15</td>\n",
       "      <td>2019</td>\n",
       "    </tr>\n",
       "    <tr>\n",
       "      <th>2</th>\n",
       "      <td>6306</td>\n",
       "      <td>201916</td>\n",
       "      <td>1</td>\n",
       "      <td>1</td>\n",
       "      <td>1</td>\n",
       "      <td>0.0</td>\n",
       "      <td>0.0</td>\n",
       "      <td>0.0</td>\n",
       "      <td>0.0</td>\n",
       "      <td>0.0</td>\n",
       "      <td>521.4</td>\n",
       "      <td>240.0</td>\n",
       "      <td>16</td>\n",
       "      <td>2019</td>\n",
       "    </tr>\n",
       "    <tr>\n",
       "      <th>15</th>\n",
       "      <td>6480</td>\n",
       "      <td>201902</td>\n",
       "      <td>1</td>\n",
       "      <td>2</td>\n",
       "      <td>0</td>\n",
       "      <td>0.0</td>\n",
       "      <td>0.0</td>\n",
       "      <td>0.0</td>\n",
       "      <td>0.0</td>\n",
       "      <td>0.0</td>\n",
       "      <td>833.4</td>\n",
       "      <td>240.0</td>\n",
       "      <td>2</td>\n",
       "      <td>2019</td>\n",
       "    </tr>\n",
       "    <tr>\n",
       "      <th>16</th>\n",
       "      <td>6528</td>\n",
       "      <td>201908</td>\n",
       "      <td>1</td>\n",
       "      <td>3</td>\n",
       "      <td>1</td>\n",
       "      <td>0.0</td>\n",
       "      <td>0.0</td>\n",
       "      <td>0.0</td>\n",
       "      <td>0.0</td>\n",
       "      <td>0.0</td>\n",
       "      <td>403.5</td>\n",
       "      <td>240.0</td>\n",
       "      <td>8</td>\n",
       "      <td>2019</td>\n",
       "    </tr>\n",
       "  </tbody>\n",
       "</table>\n",
       "</div>"
      ],
      "text/plain": [
       "    COD_MATERIAL  COD_CICLO  DES_CATEGORIA_MATERIAL  DES_MARCA_MATERIAL  \\\n",
       "0           6246     201908                       1                   1   \n",
       "1           6246     201915                       1                   1   \n",
       "2           6306     201916                       1                   1   \n",
       "15          6480     201902                       1                   2   \n",
       "16          6528     201908                       1                   3   \n",
       "\n",
       "    FLG_DATA  FLG_CAMPANHA_MKT_A  FLG_CAMPANHA_MKT_B  FLG_CAMPANHA_MKT_C  \\\n",
       "0          1                 0.0                 0.0                 0.0   \n",
       "1          0                 0.0                 0.0                 0.0   \n",
       "2          1                 0.0                 0.0                 0.0   \n",
       "15         0                 0.0                 0.0                 0.0   \n",
       "16         1                 0.0                 0.0                 0.0   \n",
       "\n",
       "    FLG_CAMPANHA_MKT_D  PCT_DESCONTO  VL_PRECO  QT_VENDA  CICLO   ANO  \n",
       "0                  0.0           0.0     461.4     240.0      8  2019  \n",
       "1                  0.0           0.0     461.4     240.0     15  2019  \n",
       "2                  0.0           0.0     521.4     240.0     16  2019  \n",
       "15                 0.0           0.0     833.4     240.0      2  2019  \n",
       "16                 0.0           0.0     403.5     240.0      8  2019  "
      ]
     },
     "execution_count": 45,
     "metadata": {},
     "output_type": "execute_result"
    }
   ],
   "source": [
    "df_19.head()"
   ]
  },
  {
   "cell_type": "code",
   "execution_count": 46,
   "id": "b2b69431",
   "metadata": {},
   "outputs": [
    {
     "data": {
      "text/html": [
       "<div>\n",
       "<style scoped>\n",
       "    .dataframe tbody tr th:only-of-type {\n",
       "        vertical-align: middle;\n",
       "    }\n",
       "\n",
       "    .dataframe tbody tr th {\n",
       "        vertical-align: top;\n",
       "    }\n",
       "\n",
       "    .dataframe thead th {\n",
       "        text-align: right;\n",
       "    }\n",
       "</style>\n",
       "<table border=\"1\" class=\"dataframe\">\n",
       "  <thead>\n",
       "    <tr style=\"text-align: right;\">\n",
       "      <th></th>\n",
       "      <th>COD_MATERIAL</th>\n",
       "      <th>COD_CICLO</th>\n",
       "      <th>DES_CATEGORIA_MATERIAL</th>\n",
       "      <th>DES_MARCA_MATERIAL</th>\n",
       "      <th>FLG_DATA</th>\n",
       "      <th>FLG_CAMPANHA_MKT_A</th>\n",
       "      <th>FLG_CAMPANHA_MKT_B</th>\n",
       "      <th>FLG_CAMPANHA_MKT_C</th>\n",
       "      <th>FLG_CAMPANHA_MKT_D</th>\n",
       "      <th>PCT_DESCONTO</th>\n",
       "      <th>VL_PRECO</th>\n",
       "      <th>QT_VENDA</th>\n",
       "      <th>CICLO</th>\n",
       "      <th>ANO</th>\n",
       "    </tr>\n",
       "  </thead>\n",
       "  <tbody>\n",
       "    <tr>\n",
       "      <th>28</th>\n",
       "      <td>7098</td>\n",
       "      <td>202002</td>\n",
       "      <td>1</td>\n",
       "      <td>6</td>\n",
       "      <td>0</td>\n",
       "      <td>0.0</td>\n",
       "      <td>0.0</td>\n",
       "      <td>0.0</td>\n",
       "      <td>0.0</td>\n",
       "      <td>0.0</td>\n",
       "      <td>749.4</td>\n",
       "      <td>240.0</td>\n",
       "      <td>2</td>\n",
       "      <td>2020</td>\n",
       "    </tr>\n",
       "    <tr>\n",
       "      <th>44</th>\n",
       "      <td>7230</td>\n",
       "      <td>202003</td>\n",
       "      <td>1</td>\n",
       "      <td>7</td>\n",
       "      <td>0</td>\n",
       "      <td>0.0</td>\n",
       "      <td>0.0</td>\n",
       "      <td>0.0</td>\n",
       "      <td>0.0</td>\n",
       "      <td>0.0</td>\n",
       "      <td>809.4</td>\n",
       "      <td>258.0</td>\n",
       "      <td>3</td>\n",
       "      <td>2020</td>\n",
       "    </tr>\n",
       "    <tr>\n",
       "      <th>45</th>\n",
       "      <td>7230</td>\n",
       "      <td>202008</td>\n",
       "      <td>1</td>\n",
       "      <td>7</td>\n",
       "      <td>1</td>\n",
       "      <td>0.0</td>\n",
       "      <td>0.0</td>\n",
       "      <td>0.0</td>\n",
       "      <td>0.0</td>\n",
       "      <td>0.0</td>\n",
       "      <td>809.4</td>\n",
       "      <td>240.0</td>\n",
       "      <td>8</td>\n",
       "      <td>2020</td>\n",
       "    </tr>\n",
       "    <tr>\n",
       "      <th>46</th>\n",
       "      <td>7230</td>\n",
       "      <td>202011</td>\n",
       "      <td>1</td>\n",
       "      <td>7</td>\n",
       "      <td>1</td>\n",
       "      <td>0.0</td>\n",
       "      <td>0.0</td>\n",
       "      <td>0.0</td>\n",
       "      <td>0.0</td>\n",
       "      <td>0.0</td>\n",
       "      <td>863.4</td>\n",
       "      <td>246.0</td>\n",
       "      <td>11</td>\n",
       "      <td>2020</td>\n",
       "    </tr>\n",
       "    <tr>\n",
       "      <th>47</th>\n",
       "      <td>7230</td>\n",
       "      <td>202016</td>\n",
       "      <td>1</td>\n",
       "      <td>7</td>\n",
       "      <td>1</td>\n",
       "      <td>0.0</td>\n",
       "      <td>0.0</td>\n",
       "      <td>0.0</td>\n",
       "      <td>0.0</td>\n",
       "      <td>0.0</td>\n",
       "      <td>863.4</td>\n",
       "      <td>NaN</td>\n",
       "      <td>16</td>\n",
       "      <td>2020</td>\n",
       "    </tr>\n",
       "  </tbody>\n",
       "</table>\n",
       "</div>"
      ],
      "text/plain": [
       "    COD_MATERIAL  COD_CICLO  DES_CATEGORIA_MATERIAL  DES_MARCA_MATERIAL  \\\n",
       "28          7098     202002                       1                   6   \n",
       "44          7230     202003                       1                   7   \n",
       "45          7230     202008                       1                   7   \n",
       "46          7230     202011                       1                   7   \n",
       "47          7230     202016                       1                   7   \n",
       "\n",
       "    FLG_DATA  FLG_CAMPANHA_MKT_A  FLG_CAMPANHA_MKT_B  FLG_CAMPANHA_MKT_C  \\\n",
       "28         0                 0.0                 0.0                 0.0   \n",
       "44         0                 0.0                 0.0                 0.0   \n",
       "45         1                 0.0                 0.0                 0.0   \n",
       "46         1                 0.0                 0.0                 0.0   \n",
       "47         1                 0.0                 0.0                 0.0   \n",
       "\n",
       "    FLG_CAMPANHA_MKT_D  PCT_DESCONTO  VL_PRECO  QT_VENDA  CICLO   ANO  \n",
       "28                 0.0           0.0     749.4     240.0      2  2020  \n",
       "44                 0.0           0.0     809.4     258.0      3  2020  \n",
       "45                 0.0           0.0     809.4     240.0      8  2020  \n",
       "46                 0.0           0.0     863.4     246.0     11  2020  \n",
       "47                 0.0           0.0     863.4       NaN     16  2020  "
      ]
     },
     "execution_count": 46,
     "metadata": {},
     "output_type": "execute_result"
    }
   ],
   "source": [
    "df_20.head()"
   ]
  },
  {
   "cell_type": "code",
   "execution_count": 47,
   "id": "dd7abb3c",
   "metadata": {},
   "outputs": [
    {
     "data": {
      "text/html": [
       "<div>\n",
       "<style scoped>\n",
       "    .dataframe tbody tr th:only-of-type {\n",
       "        vertical-align: middle;\n",
       "    }\n",
       "\n",
       "    .dataframe tbody tr th {\n",
       "        vertical-align: top;\n",
       "    }\n",
       "\n",
       "    .dataframe thead th {\n",
       "        text-align: right;\n",
       "    }\n",
       "</style>\n",
       "<table border=\"1\" class=\"dataframe\">\n",
       "  <thead>\n",
       "    <tr style=\"text-align: right;\">\n",
       "      <th></th>\n",
       "      <th>CICLO</th>\n",
       "      <th>SOMA</th>\n",
       "    </tr>\n",
       "  </thead>\n",
       "  <tbody>\n",
       "    <tr>\n",
       "      <th>0</th>\n",
       "      <td>1</td>\n",
       "      <td>43248364.0</td>\n",
       "    </tr>\n",
       "    <tr>\n",
       "      <th>1</th>\n",
       "      <td>2</td>\n",
       "      <td>44836446.0</td>\n",
       "    </tr>\n",
       "    <tr>\n",
       "      <th>2</th>\n",
       "      <td>3</td>\n",
       "      <td>22852518.0</td>\n",
       "    </tr>\n",
       "    <tr>\n",
       "      <th>3</th>\n",
       "      <td>4</td>\n",
       "      <td>29890302.0</td>\n",
       "    </tr>\n",
       "    <tr>\n",
       "      <th>4</th>\n",
       "      <td>5</td>\n",
       "      <td>18578574.0</td>\n",
       "    </tr>\n",
       "    <tr>\n",
       "      <th>5</th>\n",
       "      <td>6</td>\n",
       "      <td>24456567.0</td>\n",
       "    </tr>\n",
       "    <tr>\n",
       "      <th>6</th>\n",
       "      <td>7</td>\n",
       "      <td>29815225.0</td>\n",
       "    </tr>\n",
       "    <tr>\n",
       "      <th>7</th>\n",
       "      <td>8</td>\n",
       "      <td>18175760.0</td>\n",
       "    </tr>\n",
       "    <tr>\n",
       "      <th>8</th>\n",
       "      <td>9</td>\n",
       "      <td>23120448.0</td>\n",
       "    </tr>\n",
       "    <tr>\n",
       "      <th>9</th>\n",
       "      <td>10</td>\n",
       "      <td>27061358.0</td>\n",
       "    </tr>\n",
       "    <tr>\n",
       "      <th>10</th>\n",
       "      <td>11</td>\n",
       "      <td>35717100.0</td>\n",
       "    </tr>\n",
       "    <tr>\n",
       "      <th>11</th>\n",
       "      <td>12</td>\n",
       "      <td>29363163.0</td>\n",
       "    </tr>\n",
       "    <tr>\n",
       "      <th>12</th>\n",
       "      <td>13</td>\n",
       "      <td>36722150.0</td>\n",
       "    </tr>\n",
       "    <tr>\n",
       "      <th>13</th>\n",
       "      <td>14</td>\n",
       "      <td>38397673.0</td>\n",
       "    </tr>\n",
       "    <tr>\n",
       "      <th>14</th>\n",
       "      <td>15</td>\n",
       "      <td>29360484.0</td>\n",
       "    </tr>\n",
       "    <tr>\n",
       "      <th>15</th>\n",
       "      <td>16</td>\n",
       "      <td>28690773.0</td>\n",
       "    </tr>\n",
       "    <tr>\n",
       "      <th>16</th>\n",
       "      <td>17</td>\n",
       "      <td>45614789.0</td>\n",
       "    </tr>\n",
       "    <tr>\n",
       "      <th>17</th>\n",
       "      <td>18</td>\n",
       "      <td>55594172.0</td>\n",
       "    </tr>\n",
       "  </tbody>\n",
       "</table>\n",
       "</div>"
      ],
      "text/plain": [
       "    CICLO        SOMA\n",
       "0       1  43248364.0\n",
       "1       2  44836446.0\n",
       "2       3  22852518.0\n",
       "3       4  29890302.0\n",
       "4       5  18578574.0\n",
       "5       6  24456567.0\n",
       "6       7  29815225.0\n",
       "7       8  18175760.0\n",
       "8       9  23120448.0\n",
       "9      10  27061358.0\n",
       "10     11  35717100.0\n",
       "11     12  29363163.0\n",
       "12     13  36722150.0\n",
       "13     14  38397673.0\n",
       "14     15  29360484.0\n",
       "15     16  28690773.0\n",
       "16     17  45614789.0\n",
       "17     18  55594172.0"
      ]
     },
     "execution_count": 47,
     "metadata": {},
     "output_type": "execute_result"
    },
    {
     "data": {
      "image/png": "[encoded data removed]",
      "text/plain": [
       "<Figure size 640x480 with 1 Axes>"
      ]
     },
     "metadata": {},
     "output_type": "display_data"
    }
   ],
   "source": [
    "dftes=df_18.groupby('CICLO')['QT_VENDA'].sum().reset_index(name='SOMA')\n",
    "plt.bar(dftes['CICLO'],dftes['SOMA'])\n",
    "dftes.head(18)"
   ]
  },
  {
   "cell_type": "code",
   "execution_count": 48,
   "id": "bb773781",
   "metadata": {},
   "outputs": [
    {
     "data": {
      "text/html": [
       "<div>\n",
       "<style scoped>\n",
       "    .dataframe tbody tr th:only-of-type {\n",
       "        vertical-align: middle;\n",
       "    }\n",
       "\n",
       "    .dataframe tbody tr th {\n",
       "        vertical-align: top;\n",
       "    }\n",
       "\n",
       "    .dataframe thead th {\n",
       "        text-align: right;\n",
       "    }\n",
       "</style>\n",
       "<table border=\"1\" class=\"dataframe\">\n",
       "  <thead>\n",
       "    <tr style=\"text-align: right;\">\n",
       "      <th></th>\n",
       "      <th>CICLO</th>\n",
       "      <th>SOMA</th>\n",
       "    </tr>\n",
       "  </thead>\n",
       "  <tbody>\n",
       "    <tr>\n",
       "      <th>0</th>\n",
       "      <td>1</td>\n",
       "      <td>61897799.0</td>\n",
       "    </tr>\n",
       "    <tr>\n",
       "      <th>1</th>\n",
       "      <td>2</td>\n",
       "      <td>37047867.0</td>\n",
       "    </tr>\n",
       "    <tr>\n",
       "      <th>2</th>\n",
       "      <td>3</td>\n",
       "      <td>28579331.0</td>\n",
       "    </tr>\n",
       "    <tr>\n",
       "      <th>3</th>\n",
       "      <td>4</td>\n",
       "      <td>29743216.0</td>\n",
       "    </tr>\n",
       "    <tr>\n",
       "      <th>4</th>\n",
       "      <td>5</td>\n",
       "      <td>30484797.0</td>\n",
       "    </tr>\n",
       "    <tr>\n",
       "      <th>5</th>\n",
       "      <td>6</td>\n",
       "      <td>36616381.0</td>\n",
       "    </tr>\n",
       "    <tr>\n",
       "      <th>6</th>\n",
       "      <td>7</td>\n",
       "      <td>23942976.0</td>\n",
       "    </tr>\n",
       "    <tr>\n",
       "      <th>7</th>\n",
       "      <td>8</td>\n",
       "      <td>28171481.0</td>\n",
       "    </tr>\n",
       "    <tr>\n",
       "      <th>8</th>\n",
       "      <td>9</td>\n",
       "      <td>27137576.0</td>\n",
       "    </tr>\n",
       "    <tr>\n",
       "      <th>9</th>\n",
       "      <td>10</td>\n",
       "      <td>31407754.0</td>\n",
       "    </tr>\n",
       "    <tr>\n",
       "      <th>10</th>\n",
       "      <td>11</td>\n",
       "      <td>32644668.0</td>\n",
       "    </tr>\n",
       "    <tr>\n",
       "      <th>11</th>\n",
       "      <td>12</td>\n",
       "      <td>35634631.0</td>\n",
       "    </tr>\n",
       "    <tr>\n",
       "      <th>12</th>\n",
       "      <td>13</td>\n",
       "      <td>45208756.0</td>\n",
       "    </tr>\n",
       "    <tr>\n",
       "      <th>13</th>\n",
       "      <td>14</td>\n",
       "      <td>37325691.0</td>\n",
       "    </tr>\n",
       "    <tr>\n",
       "      <th>14</th>\n",
       "      <td>15</td>\n",
       "      <td>25805861.0</td>\n",
       "    </tr>\n",
       "    <tr>\n",
       "      <th>15</th>\n",
       "      <td>16</td>\n",
       "      <td>50523576.0</td>\n",
       "    </tr>\n",
       "    <tr>\n",
       "      <th>16</th>\n",
       "      <td>17</td>\n",
       "      <td>45469932.0</td>\n",
       "    </tr>\n",
       "  </tbody>\n",
       "</table>\n",
       "</div>"
      ],
      "text/plain": [
       "    CICLO        SOMA\n",
       "0       1  61897799.0\n",
       "1       2  37047867.0\n",
       "2       3  28579331.0\n",
       "3       4  29743216.0\n",
       "4       5  30484797.0\n",
       "5       6  36616381.0\n",
       "6       7  23942976.0\n",
       "7       8  28171481.0\n",
       "8       9  27137576.0\n",
       "9      10  31407754.0\n",
       "10     11  32644668.0\n",
       "11     12  35634631.0\n",
       "12     13  45208756.0\n",
       "13     14  37325691.0\n",
       "14     15  25805861.0\n",
       "15     16  50523576.0\n",
       "16     17  45469932.0"
      ]
     },
     "execution_count": 48,
     "metadata": {},
     "output_type": "execute_result"
    },
    {
     "data": {
      "image/png": "[encoded data removed]",
      "text/plain": [
       "<Figure size 640x480 with 1 Axes>"
      ]
     },
     "metadata": {},
     "output_type": "display_data"
    }
   ],
   "source": [
    "dftes=df_19.groupby('CICLO')['QT_VENDA'].sum().reset_index(name='SOMA')\n",
    "plt.bar(dftes['CICLO'],dftes['SOMA'],color='green')\n",
    "dftes.head(18)"
   ]
  },
  {
   "cell_type": "code",
   "execution_count": 49,
   "id": "4eb6215b",
   "metadata": {},
   "outputs": [
    {
     "data": {
      "text/html": [
       "<div>\n",
       "<style scoped>\n",
       "    .dataframe tbody tr th:only-of-type {\n",
       "        vertical-align: middle;\n",
       "    }\n",
       "\n",
       "    .dataframe tbody tr th {\n",
       "        vertical-align: top;\n",
       "    }\n",
       "\n",
       "    .dataframe thead th {\n",
       "        text-align: right;\n",
       "    }\n",
       "</style>\n",
       "<table border=\"1\" class=\"dataframe\">\n",
       "  <thead>\n",
       "    <tr style=\"text-align: right;\">\n",
       "      <th></th>\n",
       "      <th>CICLO</th>\n",
       "      <th>SOMA</th>\n",
       "    </tr>\n",
       "  </thead>\n",
       "  <tbody>\n",
       "    <tr>\n",
       "      <th>0</th>\n",
       "      <td>1</td>\n",
       "      <td>60105321.0</td>\n",
       "    </tr>\n",
       "    <tr>\n",
       "      <th>1</th>\n",
       "      <td>2</td>\n",
       "      <td>33500887.0</td>\n",
       "    </tr>\n",
       "    <tr>\n",
       "      <th>2</th>\n",
       "      <td>3</td>\n",
       "      <td>28048164.0</td>\n",
       "    </tr>\n",
       "    <tr>\n",
       "      <th>3</th>\n",
       "      <td>4</td>\n",
       "      <td>20016761.0</td>\n",
       "    </tr>\n",
       "    <tr>\n",
       "      <th>4</th>\n",
       "      <td>5</td>\n",
       "      <td>16643963.0</td>\n",
       "    </tr>\n",
       "    <tr>\n",
       "      <th>5</th>\n",
       "      <td>6</td>\n",
       "      <td>21638524.0</td>\n",
       "    </tr>\n",
       "    <tr>\n",
       "      <th>6</th>\n",
       "      <td>7</td>\n",
       "      <td>23319754.0</td>\n",
       "    </tr>\n",
       "    <tr>\n",
       "      <th>7</th>\n",
       "      <td>8</td>\n",
       "      <td>26156431.0</td>\n",
       "    </tr>\n",
       "    <tr>\n",
       "      <th>8</th>\n",
       "      <td>9</td>\n",
       "      <td>25450284.0</td>\n",
       "    </tr>\n",
       "    <tr>\n",
       "      <th>9</th>\n",
       "      <td>10</td>\n",
       "      <td>44476928.0</td>\n",
       "    </tr>\n",
       "    <tr>\n",
       "      <th>10</th>\n",
       "      <td>11</td>\n",
       "      <td>34101441.0</td>\n",
       "    </tr>\n",
       "    <tr>\n",
       "      <th>11</th>\n",
       "      <td>12</td>\n",
       "      <td>34288800.0</td>\n",
       "    </tr>\n",
       "    <tr>\n",
       "      <th>12</th>\n",
       "      <td>13</td>\n",
       "      <td>42250244.0</td>\n",
       "    </tr>\n",
       "    <tr>\n",
       "      <th>13</th>\n",
       "      <td>14</td>\n",
       "      <td>35690335.0</td>\n",
       "    </tr>\n",
       "    <tr>\n",
       "      <th>14</th>\n",
       "      <td>15</td>\n",
       "      <td>29532837.0</td>\n",
       "    </tr>\n",
       "    <tr>\n",
       "      <th>15</th>\n",
       "      <td>16</td>\n",
       "      <td>0.0</td>\n",
       "    </tr>\n",
       "    <tr>\n",
       "      <th>16</th>\n",
       "      <td>17</td>\n",
       "      <td>0.0</td>\n",
       "    </tr>\n",
       "  </tbody>\n",
       "</table>\n",
       "</div>"
      ],
      "text/plain": [
       "    CICLO        SOMA\n",
       "0       1  60105321.0\n",
       "1       2  33500887.0\n",
       "2       3  28048164.0\n",
       "3       4  20016761.0\n",
       "4       5  16643963.0\n",
       "5       6  21638524.0\n",
       "6       7  23319754.0\n",
       "7       8  26156431.0\n",
       "8       9  25450284.0\n",
       "9      10  44476928.0\n",
       "10     11  34101441.0\n",
       "11     12  34288800.0\n",
       "12     13  42250244.0\n",
       "13     14  35690335.0\n",
       "14     15  29532837.0\n",
       "15     16         0.0\n",
       "16     17         0.0"
      ]
     },
     "execution_count": 49,
     "metadata": {},
     "output_type": "execute_result"
    },
    {
     "data": {
      "image/png": "[encoded data removed]",
      "text/plain": [
       "<Figure size 640x480 with 1 Axes>"
      ]
     },
     "metadata": {},
     "output_type": "display_data"
    }
   ],
   "source": [
    "dftes=df_20.groupby('CICLO')['QT_VENDA'].sum().reset_index(name='SOMA')\n",
    "plt.bar(dftes['CICLO'],dftes['SOMA'], color ='orange')\n",
    "dftes.head(18)"
   ]
  },
  {
   "cell_type": "markdown",
   "id": "f329105b",
   "metadata": {},
   "source": [
    "#### Apesar de ter uma pequena diminuição das vendas em alguns ciclos do ano de 2020, isso se reverte e o ano volta a ter as mesmas características dos anos anteriores. \n",
    "#### Consideramos então que a pandemia não teve um impacto muito grande nos dados."
   ]
  },
  {
   "cell_type": "markdown",
   "id": "fc49e9d6",
   "metadata": {},
   "source": [
    "# 4. Criação de variáveis"
   ]
  },
  {
   "cell_type": "markdown",
   "id": "29e2ea05",
   "metadata": {},
   "source": [
    "## 4.1 Criar a variavel de tempo em função do ano e do número de ciclos no ano.\n",
    " ### Hipóteses:\n",
    "   - não existe superposição de ciclos\n",
    "   - sempre tem um ciclo ativo ao longo do ano.\n",
    "   - todos os ciclos de um ano tem a mesma duração\n"
   ]
  },
  {
   "cell_type": "code",
   "execution_count": 50,
   "id": "5b6c5e0b",
   "metadata": {},
   "outputs": [],
   "source": [
    "a = df.groupby('ANO')['CICLO'].idxmax()\n",
    "df_tamanho_ciclos = df.loc[a][['ANO', 'CICLO']]\n",
    "\n",
    "#assumption, 2021 tera 17 ciclos\n",
    "df_tamanho_ciclos['CICLO'] = df_tamanho_ciclos.apply(lambda x : 17 if x['ANO'] == 2021 else x['CICLO'] , axis = 1)\n",
    "df_tamanho_ciclos['DELTA'] = 365 / df_tamanho_ciclos['CICLO']\n",
    "\n",
    "# Pegar o dia de inicio de cada ano e somar os dias de cada ciclo\n",
    "def obter_data(row , df_tamanho_ciclos):\n",
    "    ciclo = row['CICLO']\n",
    "    ano = row['ANO']\n",
    "    delta = df_tamanho_ciclos.loc[df_tamanho_ciclos['ANO'] == ano]['DELTA'].values[0]\n",
    "    a_data_inicial = datetime.date(int(ano), 1, 1) + datetime.timedelta(days=(delta * (ciclo - 1)) )\n",
    "    a_data_final = a_data_inicial + datetime.timedelta(days=delta)\n",
    "    return a_data_inicial , a_data_final\n",
    "    \n",
    "df[['DATA_INICIO' , 'DATA_FIM']] = df.apply(obter_data , df_tamanho_ciclos = df_tamanho_ciclos , result_type='expand' , axis=1)\n",
    "df.sort_values(by='DATA_INICIO',inplace=True)"
   ]
  },
  {
   "cell_type": "code",
   "execution_count": 51,
   "id": "cb2c7228",
   "metadata": {},
   "outputs": [
    {
     "data": {
      "text/html": [
       "<div>\n",
       "<style scoped>\n",
       "    .dataframe tbody tr th:only-of-type {\n",
       "        vertical-align: middle;\n",
       "    }\n",
       "\n",
       "    .dataframe tbody tr th {\n",
       "        vertical-align: top;\n",
       "    }\n",
       "\n",
       "    .dataframe thead th {\n",
       "        text-align: right;\n",
       "    }\n",
       "</style>\n",
       "<table border=\"1\" class=\"dataframe\">\n",
       "  <thead>\n",
       "    <tr style=\"text-align: right;\">\n",
       "      <th></th>\n",
       "      <th>COD_MATERIAL</th>\n",
       "      <th>COD_CICLO</th>\n",
       "      <th>DES_CATEGORIA_MATERIAL</th>\n",
       "      <th>DES_MARCA_MATERIAL</th>\n",
       "      <th>FLG_DATA</th>\n",
       "      <th>FLG_CAMPANHA_MKT_A</th>\n",
       "      <th>FLG_CAMPANHA_MKT_B</th>\n",
       "      <th>FLG_CAMPANHA_MKT_C</th>\n",
       "      <th>FLG_CAMPANHA_MKT_D</th>\n",
       "      <th>PCT_DESCONTO</th>\n",
       "      <th>VL_PRECO</th>\n",
       "      <th>QT_VENDA</th>\n",
       "      <th>CICLO</th>\n",
       "      <th>ANO</th>\n",
       "      <th>DATA_INICIO</th>\n",
       "      <th>DATA_FIM</th>\n",
       "    </tr>\n",
       "  </thead>\n",
       "  <tbody>\n",
       "    <tr>\n",
       "      <th>18623</th>\n",
       "      <td>153096</td>\n",
       "      <td>201801</td>\n",
       "      <td>1</td>\n",
       "      <td>20</td>\n",
       "      <td>0</td>\n",
       "      <td>0.0</td>\n",
       "      <td>1.0</td>\n",
       "      <td>0.5</td>\n",
       "      <td>0.0</td>\n",
       "      <td>21.640</td>\n",
       "      <td>632.55</td>\n",
       "      <td>442602.0</td>\n",
       "      <td>1</td>\n",
       "      <td>2018</td>\n",
       "      <td>2018-01-01</td>\n",
       "      <td>2018-01-21</td>\n",
       "    </tr>\n",
       "    <tr>\n",
       "      <th>8688</th>\n",
       "      <td>124026</td>\n",
       "      <td>201801</td>\n",
       "      <td>1</td>\n",
       "      <td>59</td>\n",
       "      <td>0</td>\n",
       "      <td>0.0</td>\n",
       "      <td>0.0</td>\n",
       "      <td>0.0</td>\n",
       "      <td>0.0</td>\n",
       "      <td>0.000</td>\n",
       "      <td>1488.00</td>\n",
       "      <td>1974.0</td>\n",
       "      <td>1</td>\n",
       "      <td>2018</td>\n",
       "      <td>2018-01-01</td>\n",
       "      <td>2018-01-21</td>\n",
       "    </tr>\n",
       "    <tr>\n",
       "      <th>21620</th>\n",
       "      <td>166746</td>\n",
       "      <td>201801</td>\n",
       "      <td>5</td>\n",
       "      <td>48</td>\n",
       "      <td>0</td>\n",
       "      <td>0.0</td>\n",
       "      <td>1.0</td>\n",
       "      <td>0.5</td>\n",
       "      <td>0.0</td>\n",
       "      <td>30.485</td>\n",
       "      <td>461.79</td>\n",
       "      <td>94608.0</td>\n",
       "      <td>1</td>\n",
       "      <td>2018</td>\n",
       "      <td>2018-01-01</td>\n",
       "      <td>2018-01-21</td>\n",
       "    </tr>\n",
       "    <tr>\n",
       "      <th>38030</th>\n",
       "      <td>432618</td>\n",
       "      <td>201801</td>\n",
       "      <td>3</td>\n",
       "      <td>54</td>\n",
       "      <td>0</td>\n",
       "      <td>1.0</td>\n",
       "      <td>0.0</td>\n",
       "      <td>0.0</td>\n",
       "      <td>0.0</td>\n",
       "      <td>0.000</td>\n",
       "      <td>461.40</td>\n",
       "      <td>47670.0</td>\n",
       "      <td>1</td>\n",
       "      <td>2018</td>\n",
       "      <td>2018-01-01</td>\n",
       "      <td>2018-01-21</td>\n",
       "    </tr>\n",
       "    <tr>\n",
       "      <th>8743</th>\n",
       "      <td>124296</td>\n",
       "      <td>201801</td>\n",
       "      <td>2</td>\n",
       "      <td>40</td>\n",
       "      <td>0</td>\n",
       "      <td>0.0</td>\n",
       "      <td>0.0</td>\n",
       "      <td>0.0</td>\n",
       "      <td>0.0</td>\n",
       "      <td>0.000</td>\n",
       "      <td>413.40</td>\n",
       "      <td>240.0</td>\n",
       "      <td>1</td>\n",
       "      <td>2018</td>\n",
       "      <td>2018-01-01</td>\n",
       "      <td>2018-01-21</td>\n",
       "    </tr>\n",
       "  </tbody>\n",
       "</table>\n",
       "</div>"
      ],
      "text/plain": [
       "       COD_MATERIAL  COD_CICLO  DES_CATEGORIA_MATERIAL  DES_MARCA_MATERIAL  \\\n",
       "18623        153096     201801                       1                  20   \n",
       "8688         124026     201801                       1                  59   \n",
       "21620        166746     201801                       5                  48   \n",
       "38030        432618     201801                       3                  54   \n",
       "8743         124296     201801                       2                  40   \n",
       "\n",
       "       FLG_DATA  FLG_CAMPANHA_MKT_A  FLG_CAMPANHA_MKT_B  FLG_CAMPANHA_MKT_C  \\\n",
       "18623         0                 0.0                 1.0                 0.5   \n",
       "8688          0                 0.0                 0.0                 0.0   \n",
       "21620         0                 0.0                 1.0                 0.5   \n",
       "38030         0                 1.0                 0.0                 0.0   \n",
       "8743          0                 0.0                 0.0                 0.0   \n",
       "\n",
       "       FLG_CAMPANHA_MKT_D  PCT_DESCONTO  VL_PRECO  QT_VENDA  CICLO   ANO  \\\n",
       "18623                 0.0        21.640    632.55  442602.0      1  2018   \n",
       "8688                  0.0         0.000   1488.00    1974.0      1  2018   \n",
       "21620                 0.0        30.485    461.79   94608.0      1  2018   \n",
       "38030                 0.0         0.000    461.40   47670.0      1  2018   \n",
       "8743                  0.0         0.000    413.40     240.0      1  2018   \n",
       "\n",
       "      DATA_INICIO    DATA_FIM  \n",
       "18623  2018-01-01  2018-01-21  \n",
       "8688   2018-01-01  2018-01-21  \n",
       "21620  2018-01-01  2018-01-21  \n",
       "38030  2018-01-01  2018-01-21  \n",
       "8743   2018-01-01  2018-01-21  "
      ]
     },
     "execution_count": 51,
     "metadata": {},
     "output_type": "execute_result"
    }
   ],
   "source": [
    "df.head()"
   ]
  },
  {
   "cell_type": "markdown",
   "id": "af9224f9",
   "metadata": {},
   "source": [
    "# 5. Análise dascolunas após tratamentos"
   ]
  },
  {
   "cell_type": "code",
   "execution_count": 52,
   "id": "446bb9dd",
   "metadata": {},
   "outputs": [
    {
     "data": {
      "text/html": [
       "<div>\n",
       "<style scoped>\n",
       "    .dataframe tbody tr th:only-of-type {\n",
       "        vertical-align: middle;\n",
       "    }\n",
       "\n",
       "    .dataframe tbody tr th {\n",
       "        vertical-align: top;\n",
       "    }\n",
       "\n",
       "    .dataframe thead th {\n",
       "        text-align: right;\n",
       "    }\n",
       "</style>\n",
       "<table border=\"1\" class=\"dataframe\">\n",
       "  <thead>\n",
       "    <tr style=\"text-align: right;\">\n",
       "      <th></th>\n",
       "      <th>count</th>\n",
       "      <th>mean</th>\n",
       "      <th>std</th>\n",
       "      <th>min</th>\n",
       "      <th>25%</th>\n",
       "      <th>50%</th>\n",
       "      <th>75%</th>\n",
       "      <th>max</th>\n",
       "    </tr>\n",
       "  </thead>\n",
       "  <tbody>\n",
       "    <tr>\n",
       "      <th>COD_MATERIAL</th>\n",
       "      <td>52087.00</td>\n",
       "      <td>270427.24</td>\n",
       "      <td>154634.17</td>\n",
       "      <td>6246.00</td>\n",
       "      <td>141372.00</td>\n",
       "      <td>174702.00</td>\n",
       "      <td>433710.00</td>\n",
       "      <td>502386.00</td>\n",
       "    </tr>\n",
       "    <tr>\n",
       "      <th>COD_CICLO</th>\n",
       "      <td>52087.00</td>\n",
       "      <td>201912.79</td>\n",
       "      <td>85.83</td>\n",
       "      <td>201801.00</td>\n",
       "      <td>201814.00</td>\n",
       "      <td>201910.00</td>\n",
       "      <td>202006.00</td>\n",
       "      <td>202101.00</td>\n",
       "    </tr>\n",
       "    <tr>\n",
       "      <th>DES_CATEGORIA_MATERIAL</th>\n",
       "      <td>52087.00</td>\n",
       "      <td>3.14</td>\n",
       "      <td>1.93</td>\n",
       "      <td>1.00</td>\n",
       "      <td>2.00</td>\n",
       "      <td>2.00</td>\n",
       "      <td>5.00</td>\n",
       "      <td>6.00</td>\n",
       "    </tr>\n",
       "    <tr>\n",
       "      <th>DES_MARCA_MATERIAL</th>\n",
       "      <td>52087.00</td>\n",
       "      <td>50.44</td>\n",
       "      <td>21.49</td>\n",
       "      <td>1.00</td>\n",
       "      <td>43.00</td>\n",
       "      <td>54.00</td>\n",
       "      <td>71.00</td>\n",
       "      <td>85.00</td>\n",
       "    </tr>\n",
       "    <tr>\n",
       "      <th>FLG_DATA</th>\n",
       "      <td>52087.00</td>\n",
       "      <td>0.29</td>\n",
       "      <td>0.45</td>\n",
       "      <td>0.00</td>\n",
       "      <td>0.00</td>\n",
       "      <td>0.00</td>\n",
       "      <td>1.00</td>\n",
       "      <td>1.00</td>\n",
       "    </tr>\n",
       "    <tr>\n",
       "      <th>FLG_CAMPANHA_MKT_A</th>\n",
       "      <td>52087.00</td>\n",
       "      <td>0.02</td>\n",
       "      <td>0.12</td>\n",
       "      <td>0.00</td>\n",
       "      <td>0.00</td>\n",
       "      <td>0.00</td>\n",
       "      <td>0.00</td>\n",
       "      <td>1.00</td>\n",
       "    </tr>\n",
       "    <tr>\n",
       "      <th>FLG_CAMPANHA_MKT_B</th>\n",
       "      <td>52087.00</td>\n",
       "      <td>0.24</td>\n",
       "      <td>0.40</td>\n",
       "      <td>0.00</td>\n",
       "      <td>0.00</td>\n",
       "      <td>0.00</td>\n",
       "      <td>0.50</td>\n",
       "      <td>1.00</td>\n",
       "    </tr>\n",
       "    <tr>\n",
       "      <th>FLG_CAMPANHA_MKT_C</th>\n",
       "      <td>52087.00</td>\n",
       "      <td>0.04</td>\n",
       "      <td>0.19</td>\n",
       "      <td>0.00</td>\n",
       "      <td>0.00</td>\n",
       "      <td>0.00</td>\n",
       "      <td>0.00</td>\n",
       "      <td>1.00</td>\n",
       "    </tr>\n",
       "    <tr>\n",
       "      <th>FLG_CAMPANHA_MKT_D</th>\n",
       "      <td>52087.00</td>\n",
       "      <td>0.06</td>\n",
       "      <td>0.17</td>\n",
       "      <td>0.00</td>\n",
       "      <td>0.00</td>\n",
       "      <td>0.00</td>\n",
       "      <td>0.00</td>\n",
       "      <td>1.00</td>\n",
       "    </tr>\n",
       "    <tr>\n",
       "      <th>PCT_DESCONTO</th>\n",
       "      <td>52087.00</td>\n",
       "      <td>6.08</td>\n",
       "      <td>10.48</td>\n",
       "      <td>0.00</td>\n",
       "      <td>0.00</td>\n",
       "      <td>0.00</td>\n",
       "      <td>13.42</td>\n",
       "      <td>35.00</td>\n",
       "    </tr>\n",
       "    <tr>\n",
       "      <th>VL_PRECO</th>\n",
       "      <td>52087.00</td>\n",
       "      <td>545.00</td>\n",
       "      <td>250.93</td>\n",
       "      <td>234.06</td>\n",
       "      <td>389.40</td>\n",
       "      <td>461.40</td>\n",
       "      <td>593.40</td>\n",
       "      <td>5539.62</td>\n",
       "    </tr>\n",
       "    <tr>\n",
       "      <th>QT_VENDA</th>\n",
       "      <td>48939.00</td>\n",
       "      <td>34008.84</td>\n",
       "      <td>98129.87</td>\n",
       "      <td>235.00</td>\n",
       "      <td>810.00</td>\n",
       "      <td>5886.00</td>\n",
       "      <td>29976.00</td>\n",
       "      <td>4047372.00</td>\n",
       "    </tr>\n",
       "    <tr>\n",
       "      <th>CICLO</th>\n",
       "      <td>52087.00</td>\n",
       "      <td>9.08</td>\n",
       "      <td>5.13</td>\n",
       "      <td>1.00</td>\n",
       "      <td>5.00</td>\n",
       "      <td>9.00</td>\n",
       "      <td>14.00</td>\n",
       "      <td>18.00</td>\n",
       "    </tr>\n",
       "    <tr>\n",
       "      <th>ANO</th>\n",
       "      <td>52087.00</td>\n",
       "      <td>2019.04</td>\n",
       "      <td>0.86</td>\n",
       "      <td>2018.00</td>\n",
       "      <td>2018.00</td>\n",
       "      <td>2019.00</td>\n",
       "      <td>2020.00</td>\n",
       "      <td>2021.00</td>\n",
       "    </tr>\n",
       "  </tbody>\n",
       "</table>\n",
       "</div>"
      ],
      "text/plain": [
       "                           count       mean        std        min        25%  \\\n",
       "COD_MATERIAL            52087.00  270427.24  154634.17    6246.00  141372.00   \n",
       "COD_CICLO               52087.00  201912.79      85.83  201801.00  201814.00   \n",
       "DES_CATEGORIA_MATERIAL  52087.00       3.14       1.93       1.00       2.00   \n",
       "DES_MARCA_MATERIAL      52087.00      50.44      21.49       1.00      43.00   \n",
       "FLG_DATA                52087.00       0.29       0.45       0.00       0.00   \n",
       "FLG_CAMPANHA_MKT_A      52087.00       0.02       0.12       0.00       0.00   \n",
       "FLG_CAMPANHA_MKT_B      52087.00       0.24       0.40       0.00       0.00   \n",
       "FLG_CAMPANHA_MKT_C      52087.00       0.04       0.19       0.00       0.00   \n",
       "FLG_CAMPANHA_MKT_D      52087.00       0.06       0.17       0.00       0.00   \n",
       "PCT_DESCONTO            52087.00       6.08      10.48       0.00       0.00   \n",
       "VL_PRECO                52087.00     545.00     250.93     234.06     389.40   \n",
       "QT_VENDA                48939.00   34008.84   98129.87     235.00     810.00   \n",
       "CICLO                   52087.00       9.08       5.13       1.00       5.00   \n",
       "ANO                     52087.00    2019.04       0.86    2018.00    2018.00   \n",
       "\n",
       "                              50%        75%         max  \n",
       "COD_MATERIAL            174702.00  433710.00   502386.00  \n",
       "COD_CICLO               201910.00  202006.00   202101.00  \n",
       "DES_CATEGORIA_MATERIAL       2.00       5.00        6.00  \n",
       "DES_MARCA_MATERIAL          54.00      71.00       85.00  \n",
       "FLG_DATA                     0.00       1.00        1.00  \n",
       "FLG_CAMPANHA_MKT_A           0.00       0.00        1.00  \n",
       "FLG_CAMPANHA_MKT_B           0.00       0.50        1.00  \n",
       "FLG_CAMPANHA_MKT_C           0.00       0.00        1.00  \n",
       "FLG_CAMPANHA_MKT_D           0.00       0.00        1.00  \n",
       "PCT_DESCONTO                 0.00      13.42       35.00  \n",
       "VL_PRECO                   461.40     593.40     5539.62  \n",
       "QT_VENDA                  5886.00   29976.00  4047372.00  \n",
       "CICLO                        9.00      14.00       18.00  \n",
       "ANO                       2019.00    2020.00     2021.00  "
      ]
     },
     "execution_count": 52,
     "metadata": {},
     "output_type": "execute_result"
    }
   ],
   "source": [
    "df.describe().apply(lambda s: s.apply('{0:.2f}'.format)).T"
   ]
  },
  {
   "cell_type": "code",
   "execution_count": 53,
   "id": "17b1426d",
   "metadata": {},
   "outputs": [
    {
     "name": "stdout",
     "output_type": "stream",
     "text": [
      "Colunas com valores zero (qtd relativa): \n",
      "\n",
      "FLG_CAMPANHA_MKT_A    98.448749\n",
      "FLG_CAMPANHA_MKT_C    95.995162\n",
      "FLG_CAMPANHA_MKT_D    87.515119\n",
      "FLG_CAMPANHA_MKT_B    72.945265\n",
      "PCT_DESCONTO          72.014130\n",
      "FLG_DATA              70.977403\n",
      "dtype: float64\n",
      "\n"
     ]
    }
   ],
   "source": [
    "df_zeros = (df == 0).mean()\n",
    "df_zeros = df_zeros[df_zeros > 0] * 100\n",
    "print(\"Colunas com valores zero (qtd relativa): \\n\\n{}\\n\".format(df_zeros.sort_values(ascending = False)))"
   ]
  },
  {
   "cell_type": "code",
   "execution_count": 54,
   "id": "3df32e04",
   "metadata": {},
   "outputs": [
    {
     "data": {
      "text/html": [
       "<div>\n",
       "<style scoped>\n",
       "    .dataframe tbody tr th:only-of-type {\n",
       "        vertical-align: middle;\n",
       "    }\n",
       "\n",
       "    .dataframe tbody tr th {\n",
       "        vertical-align: top;\n",
       "    }\n",
       "\n",
       "    .dataframe thead th {\n",
       "        text-align: right;\n",
       "    }\n",
       "</style>\n",
       "<table border=\"1\" class=\"dataframe\">\n",
       "  <thead>\n",
       "    <tr style=\"text-align: right;\">\n",
       "      <th></th>\n",
       "      <th>COD_MATERIAL</th>\n",
       "      <th>COD_CICLO</th>\n",
       "      <th>DES_CATEGORIA_MATERIAL</th>\n",
       "      <th>DES_MARCA_MATERIAL</th>\n",
       "      <th>FLG_DATA</th>\n",
       "      <th>FLG_CAMPANHA_MKT_A</th>\n",
       "      <th>FLG_CAMPANHA_MKT_B</th>\n",
       "      <th>FLG_CAMPANHA_MKT_C</th>\n",
       "      <th>FLG_CAMPANHA_MKT_D</th>\n",
       "      <th>PCT_DESCONTO</th>\n",
       "      <th>VL_PRECO</th>\n",
       "      <th>QT_VENDA</th>\n",
       "      <th>CICLO</th>\n",
       "      <th>ANO</th>\n",
       "      <th>DATA_INICIO</th>\n",
       "      <th>DATA_FIM</th>\n",
       "    </tr>\n",
       "  </thead>\n",
       "  <tbody>\n",
       "    <tr>\n",
       "      <th>18623</th>\n",
       "      <td>153096</td>\n",
       "      <td>201801</td>\n",
       "      <td>1</td>\n",
       "      <td>20</td>\n",
       "      <td>0</td>\n",
       "      <td>0.0</td>\n",
       "      <td>1.0</td>\n",
       "      <td>0.5</td>\n",
       "      <td>0.0</td>\n",
       "      <td>21.640</td>\n",
       "      <td>632.55</td>\n",
       "      <td>442602.0</td>\n",
       "      <td>1</td>\n",
       "      <td>2018</td>\n",
       "      <td>2018-01-01</td>\n",
       "      <td>2018-01-21</td>\n",
       "    </tr>\n",
       "    <tr>\n",
       "      <th>8688</th>\n",
       "      <td>124026</td>\n",
       "      <td>201801</td>\n",
       "      <td>1</td>\n",
       "      <td>59</td>\n",
       "      <td>0</td>\n",
       "      <td>0.0</td>\n",
       "      <td>0.0</td>\n",
       "      <td>0.0</td>\n",
       "      <td>0.0</td>\n",
       "      <td>0.000</td>\n",
       "      <td>1488.00</td>\n",
       "      <td>1974.0</td>\n",
       "      <td>1</td>\n",
       "      <td>2018</td>\n",
       "      <td>2018-01-01</td>\n",
       "      <td>2018-01-21</td>\n",
       "    </tr>\n",
       "    <tr>\n",
       "      <th>21620</th>\n",
       "      <td>166746</td>\n",
       "      <td>201801</td>\n",
       "      <td>5</td>\n",
       "      <td>48</td>\n",
       "      <td>0</td>\n",
       "      <td>0.0</td>\n",
       "      <td>1.0</td>\n",
       "      <td>0.5</td>\n",
       "      <td>0.0</td>\n",
       "      <td>30.485</td>\n",
       "      <td>461.79</td>\n",
       "      <td>94608.0</td>\n",
       "      <td>1</td>\n",
       "      <td>2018</td>\n",
       "      <td>2018-01-01</td>\n",
       "      <td>2018-01-21</td>\n",
       "    </tr>\n",
       "    <tr>\n",
       "      <th>38030</th>\n",
       "      <td>432618</td>\n",
       "      <td>201801</td>\n",
       "      <td>3</td>\n",
       "      <td>54</td>\n",
       "      <td>0</td>\n",
       "      <td>1.0</td>\n",
       "      <td>0.0</td>\n",
       "      <td>0.0</td>\n",
       "      <td>0.0</td>\n",
       "      <td>0.000</td>\n",
       "      <td>461.40</td>\n",
       "      <td>47670.0</td>\n",
       "      <td>1</td>\n",
       "      <td>2018</td>\n",
       "      <td>2018-01-01</td>\n",
       "      <td>2018-01-21</td>\n",
       "    </tr>\n",
       "    <tr>\n",
       "      <th>8743</th>\n",
       "      <td>124296</td>\n",
       "      <td>201801</td>\n",
       "      <td>2</td>\n",
       "      <td>40</td>\n",
       "      <td>0</td>\n",
       "      <td>0.0</td>\n",
       "      <td>0.0</td>\n",
       "      <td>0.0</td>\n",
       "      <td>0.0</td>\n",
       "      <td>0.000</td>\n",
       "      <td>413.40</td>\n",
       "      <td>240.0</td>\n",
       "      <td>1</td>\n",
       "      <td>2018</td>\n",
       "      <td>2018-01-01</td>\n",
       "      <td>2018-01-21</td>\n",
       "    </tr>\n",
       "  </tbody>\n",
       "</table>\n",
       "</div>"
      ],
      "text/plain": [
       "       COD_MATERIAL  COD_CICLO  DES_CATEGORIA_MATERIAL  DES_MARCA_MATERIAL  \\\n",
       "18623        153096     201801                       1                  20   \n",
       "8688         124026     201801                       1                  59   \n",
       "21620        166746     201801                       5                  48   \n",
       "38030        432618     201801                       3                  54   \n",
       "8743         124296     201801                       2                  40   \n",
       "\n",
       "       FLG_DATA  FLG_CAMPANHA_MKT_A  FLG_CAMPANHA_MKT_B  FLG_CAMPANHA_MKT_C  \\\n",
       "18623         0                 0.0                 1.0                 0.5   \n",
       "8688          0                 0.0                 0.0                 0.0   \n",
       "21620         0                 0.0                 1.0                 0.5   \n",
       "38030         0                 1.0                 0.0                 0.0   \n",
       "8743          0                 0.0                 0.0                 0.0   \n",
       "\n",
       "       FLG_CAMPANHA_MKT_D  PCT_DESCONTO  VL_PRECO  QT_VENDA  CICLO   ANO  \\\n",
       "18623                 0.0        21.640    632.55  442602.0      1  2018   \n",
       "8688                  0.0         0.000   1488.00    1974.0      1  2018   \n",
       "21620                 0.0        30.485    461.79   94608.0      1  2018   \n",
       "38030                 0.0         0.000    461.40   47670.0      1  2018   \n",
       "8743                  0.0         0.000    413.40     240.0      1  2018   \n",
       "\n",
       "      DATA_INICIO    DATA_FIM  \n",
       "18623  2018-01-01  2018-01-21  \n",
       "8688   2018-01-01  2018-01-21  \n",
       "21620  2018-01-01  2018-01-21  \n",
       "38030  2018-01-01  2018-01-21  \n",
       "8743   2018-01-01  2018-01-21  "
      ]
     },
     "execution_count": 54,
     "metadata": {},
     "output_type": "execute_result"
    }
   ],
   "source": [
    "df.head()"
   ]
  },
  {
   "cell_type": "markdown",
   "id": "ec41e707",
   "metadata": {},
   "source": [
    "# 6. Análise da correlação das colunas"
   ]
  },
  {
   "cell_type": "code",
   "execution_count": 55,
   "id": "eb81d4d5",
   "metadata": {},
   "outputs": [
    {
     "data": {
      "text/plain": [
       "<AxesSubplot:>"
      ]
     },
     "execution_count": 55,
     "metadata": {},
     "output_type": "execute_result"
    },
    {
     "data": {
      "image/png": "[encoded data removed]",
      "text/plain": [
       "<Figure size 640x480 with 2 Axes>"
      ]
     },
     "metadata": {},
     "output_type": "display_data"
    }
   ],
   "source": [
    "sns.heatmap(df.corr(), annot = True, fmt = \".1f\")"
   ]
  },
  {
   "cell_type": "markdown",
   "id": "d857d9db",
   "metadata": {},
   "source": [
    "#### Não foram observados correlações significativas nos dados."
   ]
  },
  {
   "cell_type": "markdown",
   "id": "2dca7f5a",
   "metadata": {},
   "source": [
    "# 7. Análise Autocorrelação"
   ]
  },
  {
   "cell_type": "code",
   "execution_count": 56,
   "id": "9f22c77b",
   "metadata": {},
   "outputs": [
    {
     "data": {
      "text/plain": [
       "<AxesSubplot:xlabel='Lag', ylabel='Autocorrelation'>"
      ]
     },
     "execution_count": 56,
     "metadata": {},
     "output_type": "execute_result"
    },
    {
     "data": {
      "image/png": "[encoded data removed]",
      "text/plain": [
       "<Figure size 640x480 with 1 Axes>"
      ]
     },
     "metadata": {},
     "output_type": "display_data"
    }
   ],
   "source": [
    "#Cod do produto que tem quantidade completa de ciclos\n",
    "aux = df.loc[df.COD_MATERIAL == 125556]\n",
    "autocorrelation_plot(aux['QT_VENDA'])"
   ]
  },
  {
   "cell_type": "code",
   "execution_count": 57,
   "id": "00684276",
   "metadata": {},
   "outputs": [
    {
     "data": {
      "text/plain": [
       "<AxesSubplot:xlabel='Lag', ylabel='Autocorrelation'>"
      ]
     },
     "execution_count": 57,
     "metadata": {},
     "output_type": "execute_result"
    },
    {
     "data": {
      "image/png": "[encoded data removed]",
      "text/plain": [
       "<Figure size 640x480 with 1 Axes>"
      ]
     },
     "metadata": {},
     "output_type": "display_data"
    }
   ],
   "source": [
    "aux_vendas_por_ciclo = df.groupby(['COD_CICLO']).agg({'QT_VENDA' : 'sum'}).reset_index()\n",
    "autocorrelation_plot(aux_vendas_por_ciclo['QT_VENDA'])"
   ]
  },
  {
   "cell_type": "markdown",
   "id": "2cfdc052",
   "metadata": {},
   "source": [
    "#### Não foi identificado autocorrelação das quantidades de vendas ao longo do tempo tanto para um produto quanto para o somatório das vendas de cada ciclo\n",
    "    indicando que o valor da quantidade de vendas dos produtos não tem uma correlação direta com os valores de períodos anteriores"
   ]
  },
  {
   "cell_type": "markdown",
   "id": "32898d2e",
   "metadata": {},
   "source": [
    "# 8. Verificação dados para a previsao"
   ]
  },
  {
   "cell_type": "code",
   "execution_count": 58,
   "id": "0309a5d4",
   "metadata": {},
   "outputs": [
    {
     "data": {
      "text/html": [
       "<div>\n",
       "<style scoped>\n",
       "    .dataframe tbody tr th:only-of-type {\n",
       "        vertical-align: middle;\n",
       "    }\n",
       "\n",
       "    .dataframe tbody tr th {\n",
       "        vertical-align: top;\n",
       "    }\n",
       "\n",
       "    .dataframe thead th {\n",
       "        text-align: right;\n",
       "    }\n",
       "</style>\n",
       "<table border=\"1\" class=\"dataframe\">\n",
       "  <thead>\n",
       "    <tr style=\"text-align: right;\">\n",
       "      <th></th>\n",
       "      <th>COD_MATERIAL</th>\n",
       "      <th>COD_CICLO</th>\n",
       "      <th>DES_CATEGORIA_MATERIAL</th>\n",
       "      <th>DES_MARCA_MATERIAL</th>\n",
       "      <th>FLG_DATA</th>\n",
       "      <th>FLG_CAMPANHA_MKT_A</th>\n",
       "      <th>FLG_CAMPANHA_MKT_B</th>\n",
       "      <th>FLG_CAMPANHA_MKT_C</th>\n",
       "      <th>FLG_CAMPANHA_MKT_D</th>\n",
       "      <th>PCT_DESCONTO</th>\n",
       "      <th>VL_PRECO</th>\n",
       "      <th>QT_VENDA</th>\n",
       "      <th>CICLO</th>\n",
       "      <th>ANO</th>\n",
       "      <th>DATA_INICIO</th>\n",
       "      <th>DATA_FIM</th>\n",
       "    </tr>\n",
       "  </thead>\n",
       "  <tbody>\n",
       "    <tr>\n",
       "      <th>9671</th>\n",
       "      <td>128466</td>\n",
       "      <td>202016</td>\n",
       "      <td>1</td>\n",
       "      <td>58</td>\n",
       "      <td>1</td>\n",
       "      <td>0.0</td>\n",
       "      <td>0.5</td>\n",
       "      <td>0.0</td>\n",
       "      <td>0.0</td>\n",
       "      <td>10.4</td>\n",
       "      <td>944.58</td>\n",
       "      <td>NaN</td>\n",
       "      <td>16</td>\n",
       "      <td>2020</td>\n",
       "      <td>2020-11-18</td>\n",
       "      <td>2020-12-09</td>\n",
       "    </tr>\n",
       "    <tr>\n",
       "      <th>1214</th>\n",
       "      <td>61326</td>\n",
       "      <td>202016</td>\n",
       "      <td>1</td>\n",
       "      <td>9</td>\n",
       "      <td>1</td>\n",
       "      <td>0.0</td>\n",
       "      <td>0.0</td>\n",
       "      <td>0.0</td>\n",
       "      <td>0.0</td>\n",
       "      <td>0.0</td>\n",
       "      <td>833.40</td>\n",
       "      <td>NaN</td>\n",
       "      <td>16</td>\n",
       "      <td>2020</td>\n",
       "      <td>2020-11-18</td>\n",
       "      <td>2020-12-09</td>\n",
       "    </tr>\n",
       "    <tr>\n",
       "      <th>26389</th>\n",
       "      <td>174816</td>\n",
       "      <td>202016</td>\n",
       "      <td>2</td>\n",
       "      <td>43</td>\n",
       "      <td>1</td>\n",
       "      <td>0.0</td>\n",
       "      <td>0.0</td>\n",
       "      <td>0.0</td>\n",
       "      <td>0.0</td>\n",
       "      <td>0.0</td>\n",
       "      <td>389.40</td>\n",
       "      <td>NaN</td>\n",
       "      <td>16</td>\n",
       "      <td>2020</td>\n",
       "      <td>2020-11-18</td>\n",
       "      <td>2020-12-09</td>\n",
       "    </tr>\n",
       "    <tr>\n",
       "      <th>32977</th>\n",
       "      <td>427056</td>\n",
       "      <td>202016</td>\n",
       "      <td>1</td>\n",
       "      <td>49</td>\n",
       "      <td>1</td>\n",
       "      <td>0.0</td>\n",
       "      <td>0.0</td>\n",
       "      <td>0.0</td>\n",
       "      <td>0.0</td>\n",
       "      <td>0.0</td>\n",
       "      <td>808.40</td>\n",
       "      <td>NaN</td>\n",
       "      <td>16</td>\n",
       "      <td>2020</td>\n",
       "      <td>2020-11-18</td>\n",
       "      <td>2020-12-09</td>\n",
       "    </tr>\n",
       "    <tr>\n",
       "      <th>47</th>\n",
       "      <td>7230</td>\n",
       "      <td>202016</td>\n",
       "      <td>1</td>\n",
       "      <td>7</td>\n",
       "      <td>1</td>\n",
       "      <td>0.0</td>\n",
       "      <td>0.0</td>\n",
       "      <td>0.0</td>\n",
       "      <td>0.0</td>\n",
       "      <td>0.0</td>\n",
       "      <td>863.40</td>\n",
       "      <td>NaN</td>\n",
       "      <td>16</td>\n",
       "      <td>2020</td>\n",
       "      <td>2020-11-18</td>\n",
       "      <td>2020-12-09</td>\n",
       "    </tr>\n",
       "  </tbody>\n",
       "</table>\n",
       "</div>"
      ],
      "text/plain": [
       "       COD_MATERIAL  COD_CICLO  DES_CATEGORIA_MATERIAL  DES_MARCA_MATERIAL  \\\n",
       "9671         128466     202016                       1                  58   \n",
       "1214          61326     202016                       1                   9   \n",
       "26389        174816     202016                       2                  43   \n",
       "32977        427056     202016                       1                  49   \n",
       "47             7230     202016                       1                   7   \n",
       "\n",
       "       FLG_DATA  FLG_CAMPANHA_MKT_A  FLG_CAMPANHA_MKT_B  FLG_CAMPANHA_MKT_C  \\\n",
       "9671          1                 0.0                 0.5                 0.0   \n",
       "1214          1                 0.0                 0.0                 0.0   \n",
       "26389         1                 0.0                 0.0                 0.0   \n",
       "32977         1                 0.0                 0.0                 0.0   \n",
       "47            1                 0.0                 0.0                 0.0   \n",
       "\n",
       "       FLG_CAMPANHA_MKT_D  PCT_DESCONTO  VL_PRECO  QT_VENDA  CICLO   ANO  \\\n",
       "9671                  0.0          10.4    944.58       NaN     16  2020   \n",
       "1214                  0.0           0.0    833.40       NaN     16  2020   \n",
       "26389                 0.0           0.0    389.40       NaN     16  2020   \n",
       "32977                 0.0           0.0    808.40       NaN     16  2020   \n",
       "47                    0.0           0.0    863.40       NaN     16  2020   \n",
       "\n",
       "      DATA_INICIO    DATA_FIM  \n",
       "9671   2020-11-18  2020-12-09  \n",
       "1214   2020-11-18  2020-12-09  \n",
       "26389  2020-11-18  2020-12-09  \n",
       "32977  2020-11-18  2020-12-09  \n",
       "47     2020-11-18  2020-12-09  "
      ]
     },
     "execution_count": 58,
     "metadata": {},
     "output_type": "execute_result"
    }
   ],
   "source": [
    "df_a_prever = df[df['QT_VENDA'].isnull()]\n",
    "df_a_prever.head()"
   ]
  },
  {
   "cell_type": "code",
   "execution_count": 59,
   "id": "a04121a9",
   "metadata": {},
   "outputs": [
    {
     "data": {
      "text/html": [
       "<div>\n",
       "<style scoped>\n",
       "    .dataframe tbody tr th:only-of-type {\n",
       "        vertical-align: middle;\n",
       "    }\n",
       "\n",
       "    .dataframe tbody tr th {\n",
       "        vertical-align: top;\n",
       "    }\n",
       "\n",
       "    .dataframe thead th {\n",
       "        text-align: right;\n",
       "    }\n",
       "</style>\n",
       "<table border=\"1\" class=\"dataframe\">\n",
       "  <thead>\n",
       "    <tr style=\"text-align: right;\">\n",
       "      <th></th>\n",
       "      <th>COD_MATERIAL</th>\n",
       "      <th>COD_CICLO</th>\n",
       "      <th>DES_CATEGORIA_MATERIAL</th>\n",
       "      <th>DES_MARCA_MATERIAL</th>\n",
       "      <th>FLG_DATA</th>\n",
       "      <th>FLG_CAMPANHA_MKT_A</th>\n",
       "      <th>FLG_CAMPANHA_MKT_B</th>\n",
       "      <th>FLG_CAMPANHA_MKT_C</th>\n",
       "      <th>FLG_CAMPANHA_MKT_D</th>\n",
       "      <th>PCT_DESCONTO</th>\n",
       "      <th>VL_PRECO</th>\n",
       "      <th>QT_VENDA</th>\n",
       "      <th>CICLO</th>\n",
       "      <th>ANO</th>\n",
       "      <th>DATA_INICIO</th>\n",
       "      <th>DATA_FIM</th>\n",
       "    </tr>\n",
       "  </thead>\n",
       "  <tbody>\n",
       "    <tr>\n",
       "      <th>13157</th>\n",
       "      <td>142764</td>\n",
       "      <td>202101</td>\n",
       "      <td>4</td>\n",
       "      <td>60</td>\n",
       "      <td>0</td>\n",
       "      <td>0.0</td>\n",
       "      <td>0.0</td>\n",
       "      <td>0.0</td>\n",
       "      <td>0.0</td>\n",
       "      <td>0.00</td>\n",
       "      <td>551.400</td>\n",
       "      <td>NaN</td>\n",
       "      <td>1</td>\n",
       "      <td>2021</td>\n",
       "      <td>2021-01-01</td>\n",
       "      <td>2021-01-22</td>\n",
       "    </tr>\n",
       "    <tr>\n",
       "      <th>51030</th>\n",
       "      <td>468252</td>\n",
       "      <td>202101</td>\n",
       "      <td>2</td>\n",
       "      <td>55</td>\n",
       "      <td>0</td>\n",
       "      <td>0.0</td>\n",
       "      <td>0.5</td>\n",
       "      <td>0.0</td>\n",
       "      <td>0.0</td>\n",
       "      <td>33.33</td>\n",
       "      <td>385.275</td>\n",
       "      <td>NaN</td>\n",
       "      <td>1</td>\n",
       "      <td>2021</td>\n",
       "      <td>2021-01-01</td>\n",
       "      <td>2021-01-22</td>\n",
       "    </tr>\n",
       "    <tr>\n",
       "      <th>47404</th>\n",
       "      <td>451494</td>\n",
       "      <td>202101</td>\n",
       "      <td>1</td>\n",
       "      <td>55</td>\n",
       "      <td>0</td>\n",
       "      <td>0.0</td>\n",
       "      <td>0.5</td>\n",
       "      <td>0.0</td>\n",
       "      <td>0.0</td>\n",
       "      <td>12.00</td>\n",
       "      <td>1253.175</td>\n",
       "      <td>NaN</td>\n",
       "      <td>1</td>\n",
       "      <td>2021</td>\n",
       "      <td>2021-01-01</td>\n",
       "      <td>2021-01-22</td>\n",
       "    </tr>\n",
       "    <tr>\n",
       "      <th>47425</th>\n",
       "      <td>451524</td>\n",
       "      <td>202101</td>\n",
       "      <td>6</td>\n",
       "      <td>71</td>\n",
       "      <td>0</td>\n",
       "      <td>0.0</td>\n",
       "      <td>1.0</td>\n",
       "      <td>0.0</td>\n",
       "      <td>0.0</td>\n",
       "      <td>35.00</td>\n",
       "      <td>302.490</td>\n",
       "      <td>NaN</td>\n",
       "      <td>1</td>\n",
       "      <td>2021</td>\n",
       "      <td>2021-01-01</td>\n",
       "      <td>2021-01-22</td>\n",
       "    </tr>\n",
       "    <tr>\n",
       "      <th>52093</th>\n",
       "      <td>502386</td>\n",
       "      <td>202101</td>\n",
       "      <td>1</td>\n",
       "      <td>75</td>\n",
       "      <td>0</td>\n",
       "      <td>0.0</td>\n",
       "      <td>0.5</td>\n",
       "      <td>0.0</td>\n",
       "      <td>0.0</td>\n",
       "      <td>20.00</td>\n",
       "      <td>783.450</td>\n",
       "      <td>NaN</td>\n",
       "      <td>1</td>\n",
       "      <td>2021</td>\n",
       "      <td>2021-01-01</td>\n",
       "      <td>2021-01-22</td>\n",
       "    </tr>\n",
       "  </tbody>\n",
       "</table>\n",
       "</div>"
      ],
      "text/plain": [
       "       COD_MATERIAL  COD_CICLO  DES_CATEGORIA_MATERIAL  DES_MARCA_MATERIAL  \\\n",
       "13157        142764     202101                       4                  60   \n",
       "51030        468252     202101                       2                  55   \n",
       "47404        451494     202101                       1                  55   \n",
       "47425        451524     202101                       6                  71   \n",
       "52093        502386     202101                       1                  75   \n",
       "\n",
       "       FLG_DATA  FLG_CAMPANHA_MKT_A  FLG_CAMPANHA_MKT_B  FLG_CAMPANHA_MKT_C  \\\n",
       "13157         0                 0.0                 0.0                 0.0   \n",
       "51030         0                 0.0                 0.5                 0.0   \n",
       "47404         0                 0.0                 0.5                 0.0   \n",
       "47425         0                 0.0                 1.0                 0.0   \n",
       "52093         0                 0.0                 0.5                 0.0   \n",
       "\n",
       "       FLG_CAMPANHA_MKT_D  PCT_DESCONTO  VL_PRECO  QT_VENDA  CICLO   ANO  \\\n",
       "13157                 0.0          0.00   551.400       NaN      1  2021   \n",
       "51030                 0.0         33.33   385.275       NaN      1  2021   \n",
       "47404                 0.0         12.00  1253.175       NaN      1  2021   \n",
       "47425                 0.0         35.00   302.490       NaN      1  2021   \n",
       "52093                 0.0         20.00   783.450       NaN      1  2021   \n",
       "\n",
       "      DATA_INICIO    DATA_FIM  \n",
       "13157  2021-01-01  2021-01-22  \n",
       "51030  2021-01-01  2021-01-22  \n",
       "47404  2021-01-01  2021-01-22  \n",
       "47425  2021-01-01  2021-01-22  \n",
       "52093  2021-01-01  2021-01-22  "
      ]
     },
     "execution_count": 59,
     "metadata": {},
     "output_type": "execute_result"
    }
   ],
   "source": [
    "df_a_prever.tail()"
   ]
  },
  {
   "cell_type": "code",
   "execution_count": 60,
   "id": "fdd764f5",
   "metadata": {},
   "outputs": [
    {
     "name": "stdout",
     "output_type": "stream",
     "text": [
      "A base possui 3148 linhas e 16 variáveis (atributos)\n"
     ]
    }
   ],
   "source": [
    "print('A base possui', df_a_prever.shape[0], 'linhas e', df_a_prever.shape[1], 'variáveis (atributos)')"
   ]
  },
  {
   "cell_type": "code",
   "execution_count": 61,
   "id": "71f08ee7",
   "metadata": {},
   "outputs": [
    {
     "data": {
      "text/plain": [
       "array([202016, 202017, 202101], dtype=int64)"
      ]
     },
     "execution_count": 61,
     "metadata": {},
     "output_type": "execute_result"
    }
   ],
   "source": [
    "df_a_prever['COD_CICLO'].unique()"
   ]
  },
  {
   "cell_type": "code",
   "execution_count": 62,
   "id": "57579857",
   "metadata": {},
   "outputs": [
    {
     "name": "stdout",
     "output_type": "stream",
     "text": [
      "<class 'pandas.core.frame.DataFrame'>\n",
      "Int64Index: 3148 entries, 9671 to 52093\n",
      "Data columns (total 16 columns):\n",
      " #   Column                  Non-Null Count  Dtype  \n",
      "---  ------                  --------------  -----  \n",
      " 0   COD_MATERIAL            3148 non-null   int64  \n",
      " 1   COD_CICLO               3148 non-null   int64  \n",
      " 2   DES_CATEGORIA_MATERIAL  3148 non-null   int64  \n",
      " 3   DES_MARCA_MATERIAL      3148 non-null   int64  \n",
      " 4   FLG_DATA                3148 non-null   int64  \n",
      " 5   FLG_CAMPANHA_MKT_A      3148 non-null   float64\n",
      " 6   FLG_CAMPANHA_MKT_B      3148 non-null   float64\n",
      " 7   FLG_CAMPANHA_MKT_C      3148 non-null   float64\n",
      " 8   FLG_CAMPANHA_MKT_D      3148 non-null   float64\n",
      " 9   PCT_DESCONTO            3148 non-null   float64\n",
      " 10  VL_PRECO                3148 non-null   float64\n",
      " 11  QT_VENDA                0 non-null      float64\n",
      " 12  CICLO                   3148 non-null   int32  \n",
      " 13  ANO                     3148 non-null   int32  \n",
      " 14  DATA_INICIO             3148 non-null   object \n",
      " 15  DATA_FIM                3148 non-null   object \n",
      "dtypes: float64(7), int32(2), int64(5), object(2)\n",
      "memory usage: 393.5+ KB\n"
     ]
    }
   ],
   "source": [
    "df_a_prever.info(verbose=True)"
   ]
  },
  {
   "cell_type": "code",
   "execution_count": 63,
   "id": "7802cc8b",
   "metadata": {},
   "outputs": [
    {
     "name": "stdout",
     "output_type": "stream",
     "text": [
      "Valores únicos em cada variável: \n",
      "\n"
     ]
    },
    {
     "data": {
      "text/plain": [
       "QT_VENDA                     1\n",
       "FLG_DATA                     2\n",
       "ANO                          2\n",
       "COD_CICLO                    3\n",
       "FLG_CAMPANHA_MKT_C           3\n",
       "CICLO                        3\n",
       "DATA_INICIO                  3\n",
       "DATA_FIM                     3\n",
       "FLG_CAMPANHA_MKT_D           4\n",
       "FLG_CAMPANHA_MKT_A           5\n",
       "DES_CATEGORIA_MATERIAL       6\n",
       "FLG_CAMPANHA_MKT_B           6\n",
       "DES_MARCA_MATERIAL          51\n",
       "PCT_DESCONTO               153\n",
       "COD_MATERIAL              1205\n",
       "VL_PRECO                  1754\n",
       "dtype: int64"
      ]
     },
     "execution_count": 63,
     "metadata": {},
     "output_type": "execute_result"
    }
   ],
   "source": [
    "pd.options.display.max_rows = 118\n",
    "print('Valores únicos em cada variável: \\n')\n",
    "df_a_prever.nunique(dropna=False).sort_values()"
   ]
  },
  {
   "cell_type": "markdown",
   "id": "04fd55b0",
   "metadata": {},
   "source": [
    "# 9. Análise da ordem de grandeza de quantidade de vendas por produto"
   ]
  },
  {
   "cell_type": "code",
   "execution_count": 64,
   "id": "03e16e2a",
   "metadata": {},
   "outputs": [
    {
     "data": {
      "text/plain": [
       "COD_CICLO                 4.670085e+06\n",
       "DES_CATEGORIA_MATERIAL    7.265364e+01\n",
       "DES_MARCA_MATERIAL        1.166622e+03\n",
       "FLG_DATA                  6.712700e+00\n",
       "FLG_CAMPANHA_MKT_A        3.520944e-01\n",
       "FLG_CAMPANHA_MKT_B        5.459480e+00\n",
       "FLG_CAMPANHA_MKT_C        8.977205e-01\n",
       "FLG_CAMPANHA_MKT_D        1.418702e+00\n",
       "PCT_DESCONTO              1.405737e+02\n",
       "VL_PRECO                  1.260540e+04\n",
       "QT_VENDA                  7.390581e+05\n",
       "CICLO                     2.100782e+02\n",
       "ANO                       4.669875e+04\n",
       "dtype: float64"
      ]
     },
     "execution_count": 64,
     "metadata": {},
     "output_type": "execute_result"
    }
   ],
   "source": [
    "df.groupby('COD_MATERIAL').sum('QT_VENDA').mean()"
   ]
  },
  {
   "cell_type": "code",
   "execution_count": 65,
   "id": "f956115c",
   "metadata": {},
   "outputs": [
    {
     "data": {
      "text/plain": [
       "COD_CICLO                 3.883595e+06\n",
       "DES_CATEGORIA_MATERIAL    8.440446e+01\n",
       "DES_MARCA_MATERIAL        1.180594e+03\n",
       "FLG_DATA                  5.515340e+00\n",
       "FLG_CAMPANHA_MKT_A        7.149835e-01\n",
       "FLG_CAMPANHA_MKT_B        7.634384e+00\n",
       "FLG_CAMPANHA_MKT_C        1.354616e+00\n",
       "FLG_CAMPANHA_MKT_D        3.286483e+00\n",
       "PCT_DESCONTO              1.975116e+02\n",
       "VL_PRECO                  1.284440e+04\n",
       "QT_VENDA                  2.206402e+06\n",
       "CICLO                     1.753029e+02\n",
       "ANO                       3.883421e+04\n",
       "dtype: float64"
      ]
     },
     "execution_count": 65,
     "metadata": {},
     "output_type": "execute_result"
    }
   ],
   "source": [
    "df.groupby('COD_MATERIAL').sum('QT_VENDA').std()"
   ]
  },
  {
   "cell_type": "code",
   "execution_count": 66,
   "id": "a73f8ee0",
   "metadata": {},
   "outputs": [
    {
     "data": {
      "text/html": [
       "<div>\n",
       "<style scoped>\n",
       "    .dataframe tbody tr th:only-of-type {\n",
       "        vertical-align: middle;\n",
       "    }\n",
       "\n",
       "    .dataframe tbody tr th {\n",
       "        vertical-align: top;\n",
       "    }\n",
       "\n",
       "    .dataframe thead th {\n",
       "        text-align: right;\n",
       "    }\n",
       "</style>\n",
       "<table border=\"1\" class=\"dataframe\">\n",
       "  <thead>\n",
       "    <tr style=\"text-align: right;\">\n",
       "      <th></th>\n",
       "      <th>DES_CATEGORIA_MATERIAL</th>\n",
       "      <th>DES_MARCA_MATERIAL</th>\n",
       "      <th>FLG_DATA</th>\n",
       "      <th>FLG_CAMPANHA_MKT_A</th>\n",
       "      <th>FLG_CAMPANHA_MKT_B</th>\n",
       "      <th>FLG_CAMPANHA_MKT_C</th>\n",
       "      <th>FLG_CAMPANHA_MKT_D</th>\n",
       "      <th>PCT_DESCONTO</th>\n",
       "      <th>VL_PRECO</th>\n",
       "      <th>QT_VENDA</th>\n",
       "      <th>CICLO</th>\n",
       "      <th>ANO</th>\n",
       "    </tr>\n",
       "  </thead>\n",
       "  <tbody>\n",
       "    <tr>\n",
       "      <th>count</th>\n",
       "      <td>52087.000000</td>\n",
       "      <td>52087.000000</td>\n",
       "      <td>52087.000000</td>\n",
       "      <td>52087.000000</td>\n",
       "      <td>52087.000000</td>\n",
       "      <td>52087.000000</td>\n",
       "      <td>52087.000000</td>\n",
       "      <td>52087.000000</td>\n",
       "      <td>52087.000000</td>\n",
       "      <td>5.208700e+04</td>\n",
       "      <td>52087.000000</td>\n",
       "      <td>52087.000000</td>\n",
       "    </tr>\n",
       "    <tr>\n",
       "      <th>mean</th>\n",
       "      <td>3.141206</td>\n",
       "      <td>50.439323</td>\n",
       "      <td>0.290226</td>\n",
       "      <td>0.015223</td>\n",
       "      <td>0.236043</td>\n",
       "      <td>0.038813</td>\n",
       "      <td>0.061338</td>\n",
       "      <td>6.077756</td>\n",
       "      <td>544.999042</td>\n",
       "      <td>3.195344e+04</td>\n",
       "      <td>9.082804</td>\n",
       "      <td>2019.037111</td>\n",
       "    </tr>\n",
       "    <tr>\n",
       "      <th>std</th>\n",
       "      <td>1.933942</td>\n",
       "      <td>21.493605</td>\n",
       "      <td>0.453871</td>\n",
       "      <td>0.121914</td>\n",
       "      <td>0.404049</td>\n",
       "      <td>0.191543</td>\n",
       "      <td>0.165139</td>\n",
       "      <td>10.480760</td>\n",
       "      <td>250.927516</td>\n",
       "      <td>9.546286e+04</td>\n",
       "      <td>5.129247</td>\n",
       "      <td>0.862346</td>\n",
       "    </tr>\n",
       "    <tr>\n",
       "      <th>min</th>\n",
       "      <td>1.000000</td>\n",
       "      <td>1.000000</td>\n",
       "      <td>0.000000</td>\n",
       "      <td>0.000000</td>\n",
       "      <td>0.000000</td>\n",
       "      <td>0.000000</td>\n",
       "      <td>0.000000</td>\n",
       "      <td>0.000000</td>\n",
       "      <td>234.060000</td>\n",
       "      <td>0.000000e+00</td>\n",
       "      <td>1.000000</td>\n",
       "      <td>2018.000000</td>\n",
       "    </tr>\n",
       "    <tr>\n",
       "      <th>25%</th>\n",
       "      <td>2.000000</td>\n",
       "      <td>43.000000</td>\n",
       "      <td>0.000000</td>\n",
       "      <td>0.000000</td>\n",
       "      <td>0.000000</td>\n",
       "      <td>0.000000</td>\n",
       "      <td>0.000000</td>\n",
       "      <td>0.000000</td>\n",
       "      <td>389.400000</td>\n",
       "      <td>5.400000e+02</td>\n",
       "      <td>5.000000</td>\n",
       "      <td>2018.000000</td>\n",
       "    </tr>\n",
       "    <tr>\n",
       "      <th>50%</th>\n",
       "      <td>2.000000</td>\n",
       "      <td>54.000000</td>\n",
       "      <td>0.000000</td>\n",
       "      <td>0.000000</td>\n",
       "      <td>0.000000</td>\n",
       "      <td>0.000000</td>\n",
       "      <td>0.000000</td>\n",
       "      <td>0.000000</td>\n",
       "      <td>461.400000</td>\n",
       "      <td>4.314000e+03</td>\n",
       "      <td>9.000000</td>\n",
       "      <td>2019.000000</td>\n",
       "    </tr>\n",
       "    <tr>\n",
       "      <th>75%</th>\n",
       "      <td>5.000000</td>\n",
       "      <td>71.000000</td>\n",
       "      <td>1.000000</td>\n",
       "      <td>0.000000</td>\n",
       "      <td>0.500000</td>\n",
       "      <td>0.000000</td>\n",
       "      <td>0.000000</td>\n",
       "      <td>13.420000</td>\n",
       "      <td>593.400000</td>\n",
       "      <td>2.742600e+04</td>\n",
       "      <td>14.000000</td>\n",
       "      <td>2020.000000</td>\n",
       "    </tr>\n",
       "    <tr>\n",
       "      <th>max</th>\n",
       "      <td>6.000000</td>\n",
       "      <td>85.000000</td>\n",
       "      <td>1.000000</td>\n",
       "      <td>1.000000</td>\n",
       "      <td>1.000000</td>\n",
       "      <td>1.000000</td>\n",
       "      <td>1.000000</td>\n",
       "      <td>35.000000</td>\n",
       "      <td>5539.620000</td>\n",
       "      <td>4.047372e+06</td>\n",
       "      <td>18.000000</td>\n",
       "      <td>2021.000000</td>\n",
       "    </tr>\n",
       "  </tbody>\n",
       "</table>\n",
       "</div>"
      ],
      "text/plain": [
       "       DES_CATEGORIA_MATERIAL  DES_MARCA_MATERIAL      FLG_DATA  \\\n",
       "count            52087.000000        52087.000000  52087.000000   \n",
       "mean                 3.141206           50.439323      0.290226   \n",
       "std                  1.933942           21.493605      0.453871   \n",
       "min                  1.000000            1.000000      0.000000   \n",
       "25%                  2.000000           43.000000      0.000000   \n",
       "50%                  2.000000           54.000000      0.000000   \n",
       "75%                  5.000000           71.000000      1.000000   \n",
       "max                  6.000000           85.000000      1.000000   \n",
       "\n",
       "       FLG_CAMPANHA_MKT_A  FLG_CAMPANHA_MKT_B  FLG_CAMPANHA_MKT_C  \\\n",
       "count        52087.000000        52087.000000        52087.000000   \n",
       "mean             0.015223            0.236043            0.038813   \n",
       "std              0.121914            0.404049            0.191543   \n",
       "min              0.000000            0.000000            0.000000   \n",
       "25%              0.000000            0.000000            0.000000   \n",
       "50%              0.000000            0.000000            0.000000   \n",
       "75%              0.000000            0.500000            0.000000   \n",
       "max              1.000000            1.000000            1.000000   \n",
       "\n",
       "       FLG_CAMPANHA_MKT_D  PCT_DESCONTO      VL_PRECO      QT_VENDA  \\\n",
       "count        52087.000000  52087.000000  52087.000000  5.208700e+04   \n",
       "mean             0.061338      6.077756    544.999042  3.195344e+04   \n",
       "std              0.165139     10.480760    250.927516  9.546286e+04   \n",
       "min              0.000000      0.000000    234.060000  0.000000e+00   \n",
       "25%              0.000000      0.000000    389.400000  5.400000e+02   \n",
       "50%              0.000000      0.000000    461.400000  4.314000e+03   \n",
       "75%              0.000000     13.420000    593.400000  2.742600e+04   \n",
       "max              1.000000     35.000000   5539.620000  4.047372e+06   \n",
       "\n",
       "              CICLO           ANO  \n",
       "count  52087.000000  52087.000000  \n",
       "mean       9.082804   2019.037111  \n",
       "std        5.129247      0.862346  \n",
       "min        1.000000   2018.000000  \n",
       "25%        5.000000   2018.000000  \n",
       "50%        9.000000   2019.000000  \n",
       "75%       14.000000   2020.000000  \n",
       "max       18.000000   2021.000000  "
      ]
     },
     "execution_count": 66,
     "metadata": {},
     "output_type": "execute_result"
    }
   ],
   "source": [
    "df.groupby(['COD_MATERIAL','COD_CICLO']).sum('QT_VENDA').describe()"
   ]
  },
  {
   "cell_type": "markdown",
   "id": "eaf75729",
   "metadata": {},
   "source": [
    "### Vimos que a média da quantitade de vendas por produto é de 32 mil, porém o desvio padrão é de 95"
   ]
  },
  {
   "cell_type": "markdown",
   "id": "1d951abb",
   "metadata": {},
   "source": [
    "# Conclusões da análise exploratoria\n",
    "### Colunas FLG_CAMPANHA_MKT_E e FLG_CAMPANHA_MKT_F podem ser retiradas\n",
    "### Retirar casos onde o VL_PRECO for nulo (somente 6 casos)\n",
    "### Retirar PCT_Desconto que for maior que 100\n",
    "### Separar couna COD_CICLO, em ano e ciclo.\n",
    "### Criação das colunas de Data_inicio e Data_fim do ciclo\n",
    "### Analisar o que fazer com a PCT_DESCONTO que estiver nulo (34197 casos):\n",
    "#### - colocar 0.0 (escolhido)\n",
    "#### - colocar a moda\n",
    "#### - colocar a média\n"
   ]
  }
 ],
 "metadata": {
  "kernelspec": {
   "display_name": "Python 3 (ipykernel)",
   "language": "python",
   "name": "python3"
  },
  "language_info": {
   "codemirror_mode": {
    "name": "ipython",
    "version": 3
   },
   "file_extension": ".py",
   "mimetype": "text/x-python",
   "name": "python",
   "nbconvert_exporter": "python",
   "pygments_lexer": "ipython3",
   "version": "3.9.13"
  }
 },
 "nbformat": 4,
 "nbformat_minor": 5
}
